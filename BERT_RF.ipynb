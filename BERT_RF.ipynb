{
 "cells": [
  {
   "cell_type": "code",
   "execution_count": 1,
   "id": "536a6f66",
   "metadata": {
    "_cell_guid": "b1076dfc-b9ad-4769-8c92-a6c4dae69d19",
    "_uuid": "8f2839f25d086af736a60e9eeb907d3b93b6e0e5",
    "execution": {
     "iopub.execute_input": "2023-12-10T23:01:08.608099Z",
     "iopub.status.busy": "2023-12-10T23:01:08.607380Z",
     "iopub.status.idle": "2023-12-10T23:01:19.066866Z",
     "shell.execute_reply": "2023-12-10T23:01:19.066121Z"
    },
    "papermill": {
     "duration": 10.47152,
     "end_time": "2023-12-10T23:01:19.069894",
     "exception": false,
     "start_time": "2023-12-10T23:01:08.598374",
     "status": "completed"
    },
    "tags": []
   },
   "outputs": [],
   "source": [
    "import torch\n",
    "from transformers import BertTokenizer, BertModel, BertForSequenceClassification"
   ]
  },
  {
   "cell_type": "code",
   "execution_count": 2,
   "id": "2a808199",
   "metadata": {
    "execution": {
     "iopub.execute_input": "2023-12-10T23:01:19.085769Z",
     "iopub.status.busy": "2023-12-10T23:01:19.085391Z",
     "iopub.status.idle": "2023-12-10T23:01:29.077187Z",
     "shell.execute_reply": "2023-12-10T23:01:29.076306Z"
    },
    "papermill": {
     "duration": 10.002022,
     "end_time": "2023-12-10T23:01:29.079567",
     "exception": false,
     "start_time": "2023-12-10T23:01:19.077545",
     "status": "completed"
    },
    "tags": []
   },
   "outputs": [
    {
     "data": {
      "application/vnd.jupyter.widget-view+json": {
       "model_id": "04e0a46fed874ac68851d34d00fd227f",
       "version_major": 2,
       "version_minor": 0
      },
      "text/plain": [
       "tokenizer_config.json:   0%|          | 0.00/28.0 [00:00<?, ?B/s]"
      ]
     },
     "metadata": {},
     "output_type": "display_data"
    },
    {
     "data": {
      "application/vnd.jupyter.widget-view+json": {
       "model_id": "40292c2e467947e1907847a147724c46",
       "version_major": 2,
       "version_minor": 0
      },
      "text/plain": [
       "vocab.txt:   0%|          | 0.00/232k [00:00<?, ?B/s]"
      ]
     },
     "metadata": {},
     "output_type": "display_data"
    },
    {
     "data": {
      "application/vnd.jupyter.widget-view+json": {
       "model_id": "1cc20b3d56eb4d55b5241ddde65c00a5",
       "version_major": 2,
       "version_minor": 0
      },
      "text/plain": [
       "tokenizer.json:   0%|          | 0.00/466k [00:00<?, ?B/s]"
      ]
     },
     "metadata": {},
     "output_type": "display_data"
    },
    {
     "data": {
      "application/vnd.jupyter.widget-view+json": {
       "model_id": "5ffcfffe741f4377a386e5a109227b63",
       "version_major": 2,
       "version_minor": 0
      },
      "text/plain": [
       "config.json:   0%|          | 0.00/570 [00:00<?, ?B/s]"
      ]
     },
     "metadata": {},
     "output_type": "display_data"
    },
    {
     "data": {
      "application/vnd.jupyter.widget-view+json": {
       "model_id": "e7c09edc8ef749159eefe71eaf3228b0",
       "version_major": 2,
       "version_minor": 0
      },
      "text/plain": [
       "model.safetensors:   0%|          | 0.00/440M [00:00<?, ?B/s]"
      ]
     },
     "metadata": {},
     "output_type": "display_data"
    }
   ],
   "source": [
    "# load pre-trained BERT model and tokenizer\n",
    "model_name = 'bert-base-uncased'\n",
    "tokenizer = BertTokenizer.from_pretrained(model_name)\n",
    "model = BertModel.from_pretrained(model_name)\n",
    "model = model.cuda()"
   ]
  },
  {
   "cell_type": "code",
   "execution_count": 3,
   "id": "485b790c",
   "metadata": {
    "execution": {
     "iopub.execute_input": "2023-12-10T23:01:29.100085Z",
     "iopub.status.busy": "2023-12-10T23:01:29.099728Z",
     "iopub.status.idle": "2023-12-10T23:01:30.259680Z",
     "shell.execute_reply": "2023-12-10T23:01:30.258578Z"
    },
    "papermill": {
     "duration": 1.17197,
     "end_time": "2023-12-10T23:01:30.261927",
     "exception": false,
     "start_time": "2023-12-10T23:01:29.089957",
     "status": "completed"
    },
    "tags": []
   },
   "outputs": [],
   "source": [
    "import pandas as pd\n",
    "import numpy as np"
   ]
  },
  {
   "cell_type": "code",
   "execution_count": 4,
   "id": "04a0ab7c",
   "metadata": {
    "execution": {
     "iopub.execute_input": "2023-12-10T23:01:30.279470Z",
     "iopub.status.busy": "2023-12-10T23:01:30.278975Z",
     "iopub.status.idle": "2023-12-10T23:01:34.348904Z",
     "shell.execute_reply": "2023-12-10T23:01:34.347880Z"
    },
    "papermill": {
     "duration": 4.080932,
     "end_time": "2023-12-10T23:01:34.351172",
     "exception": false,
     "start_time": "2023-12-10T23:01:30.270240",
     "status": "completed"
    },
    "tags": []
   },
   "outputs": [
    {
     "name": "stdout",
     "output_type": "stream",
     "text": [
      "--2023-12-10 23:01:31--  https://gist.githubusercontent.com/kvyaswanth/29d2858f54642494aa86d1bdec0a3a3b/raw/b3697e379551fe523f05f40adc841a48dbbb120a/datasetSentences.csv\r\n",
      "Resolving gist.githubusercontent.com (gist.githubusercontent.com)... 185.199.108.133, 185.199.109.133, 185.199.110.133, ...\r\n",
      "Connecting to gist.githubusercontent.com (gist.githubusercontent.com)|185.199.108.133|:443... connected.\r\n",
      "HTTP request sent, awaiting response... 200 OK\r\n",
      "Length: 1290254 (1.2M) [text/plain]\r\n",
      "Saving to: ‘datasetSentences.csv’\r\n",
      "\r\n",
      "datasetSentences.cs 100%[===================>]   1.23M  --.-KB/s    in 0.07s   \r\n",
      "\r\n",
      "2023-12-10 23:01:31 (18.5 MB/s) - ‘datasetSentences.csv’ saved [1290254/1290254]\r\n",
      "\r\n",
      "--2023-12-10 23:01:34--  https://gist.githubusercontent.com/kvyaswanth/29d2858f54642494aa86d1bdec0a3a3b/raw/b3697e379551fe523f05f40adc841a48dbbb120a/datasetSplit.csv\r\n",
      "Resolving gist.githubusercontent.com (gist.githubusercontent.com)... 185.199.108.133, 185.199.109.133, 185.199.110.133, ...\r\n",
      "Connecting to gist.githubusercontent.com (gist.githubusercontent.com)|185.199.108.133|:443... connected.\r\n",
      "HTTP request sent, awaiting response... 200 OK\r\n",
      "Length: 83764 (82K) [text/plain]\r\n",
      "Saving to: ‘datasetSplit.csv’\r\n",
      "\r\n",
      "datasetSplit.csv    100%[===================>]  81.80K  --.-KB/s    in 0.02s   \r\n",
      "\r\n",
      "2023-12-10 23:01:34 (3.48 MB/s) - ‘datasetSplit.csv’ saved [83764/83764]\r\n",
      "\r\n"
     ]
    }
   ],
   "source": [
    "!wget https://gist.githubusercontent.com/kvyaswanth/29d2858f54642494aa86d1bdec0a3a3b/raw/b3697e379551fe523f05f40adc841a48dbbb120a/datasetSentences.csv\n",
    "!wget https://gist.githubusercontent.com/kvyaswanth/29d2858f54642494aa86d1bdec0a3a3b/raw/b3697e379551fe523f05f40adc841a48dbbb120a/datasetSplit.csv"
   ]
  },
  {
   "cell_type": "code",
   "execution_count": 5,
   "id": "5d601d8d",
   "metadata": {
    "execution": {
     "iopub.execute_input": "2023-12-10T23:01:34.369537Z",
     "iopub.status.busy": "2023-12-10T23:01:34.369220Z",
     "iopub.status.idle": "2023-12-10T23:01:34.410699Z",
     "shell.execute_reply": "2023-12-10T23:01:34.410015Z"
    },
    "papermill": {
     "duration": 0.052783,
     "end_time": "2023-12-10T23:01:34.412628",
     "exception": false,
     "start_time": "2023-12-10T23:01:34.359845",
     "status": "completed"
    },
    "tags": []
   },
   "outputs": [],
   "source": [
    "df = pd.read_csv('datasetSentences.csv')\n",
    "labels = pd.read_csv('datasetSplit.csv')"
   ]
  },
  {
   "cell_type": "code",
   "execution_count": 6,
   "id": "8ac106c2",
   "metadata": {
    "execution": {
     "iopub.execute_input": "2023-12-10T23:01:34.430290Z",
     "iopub.status.busy": "2023-12-10T23:01:34.430008Z",
     "iopub.status.idle": "2023-12-10T23:01:34.454837Z",
     "shell.execute_reply": "2023-12-10T23:01:34.453955Z"
    },
    "papermill": {
     "duration": 0.036061,
     "end_time": "2023-12-10T23:01:34.457038",
     "exception": false,
     "start_time": "2023-12-10T23:01:34.420977",
     "status": "completed"
    },
    "tags": []
   },
   "outputs": [
    {
     "data": {
      "text/html": [
       "<div>\n",
       "<style scoped>\n",
       "    .dataframe tbody tr th:only-of-type {\n",
       "        vertical-align: middle;\n",
       "    }\n",
       "\n",
       "    .dataframe tbody tr th {\n",
       "        vertical-align: top;\n",
       "    }\n",
       "\n",
       "    .dataframe thead th {\n",
       "        text-align: right;\n",
       "    }\n",
       "</style>\n",
       "<table border=\"1\" class=\"dataframe\">\n",
       "  <thead>\n",
       "    <tr style=\"text-align: right;\">\n",
       "      <th></th>\n",
       "      <th>sentence_index</th>\n",
       "      <th>sentence</th>\n",
       "    </tr>\n",
       "  </thead>\n",
       "  <tbody>\n",
       "    <tr>\n",
       "      <th>0</th>\n",
       "      <td>1</td>\n",
       "      <td>The Rock is destined to be the 21st Century 's...</td>\n",
       "    </tr>\n",
       "    <tr>\n",
       "      <th>1</th>\n",
       "      <td>2</td>\n",
       "      <td>The gorgeously elaborate continuation of `` Th...</td>\n",
       "    </tr>\n",
       "    <tr>\n",
       "      <th>2</th>\n",
       "      <td>3</td>\n",
       "      <td>Effective but too-tepid biopic</td>\n",
       "    </tr>\n",
       "    <tr>\n",
       "      <th>3</th>\n",
       "      <td>4</td>\n",
       "      <td>If you sometimes like to go to the movies to h...</td>\n",
       "    </tr>\n",
       "    <tr>\n",
       "      <th>4</th>\n",
       "      <td>5</td>\n",
       "      <td>Emerges as something rare ; an issue movie tha...</td>\n",
       "    </tr>\n",
       "    <tr>\n",
       "      <th>...</th>\n",
       "      <td>...</td>\n",
       "      <td>...</td>\n",
       "    </tr>\n",
       "    <tr>\n",
       "      <th>11850</th>\n",
       "      <td>11851</td>\n",
       "      <td>A real snooze .</td>\n",
       "    </tr>\n",
       "    <tr>\n",
       "      <th>11851</th>\n",
       "      <td>11852</td>\n",
       "      <td>No surprises .</td>\n",
       "    </tr>\n",
       "    <tr>\n",
       "      <th>11852</th>\n",
       "      <td>11853</td>\n",
       "      <td>We 've seen the hippie-turned-yuppie plot befo...</td>\n",
       "    </tr>\n",
       "    <tr>\n",
       "      <th>11853</th>\n",
       "      <td>11854</td>\n",
       "      <td>Her fans walked out muttering words like `` ho...</td>\n",
       "    </tr>\n",
       "    <tr>\n",
       "      <th>11854</th>\n",
       "      <td>11855</td>\n",
       "      <td>In this case zero .</td>\n",
       "    </tr>\n",
       "  </tbody>\n",
       "</table>\n",
       "<p>11855 rows × 2 columns</p>\n",
       "</div>"
      ],
      "text/plain": [
       "       sentence_index                                           sentence\n",
       "0                   1  The Rock is destined to be the 21st Century 's...\n",
       "1                   2  The gorgeously elaborate continuation of `` Th...\n",
       "2                   3                     Effective but too-tepid biopic\n",
       "3                   4  If you sometimes like to go to the movies to h...\n",
       "4                   5  Emerges as something rare ; an issue movie tha...\n",
       "...               ...                                                ...\n",
       "11850           11851                                    A real snooze .\n",
       "11851           11852                                     No surprises .\n",
       "11852           11853  We 've seen the hippie-turned-yuppie plot befo...\n",
       "11853           11854  Her fans walked out muttering words like `` ho...\n",
       "11854           11855                                In this case zero .\n",
       "\n",
       "[11855 rows x 2 columns]"
      ]
     },
     "execution_count": 6,
     "metadata": {},
     "output_type": "execute_result"
    }
   ],
   "source": [
    "df"
   ]
  },
  {
   "cell_type": "code",
   "execution_count": 7,
   "id": "ab7d9ed8",
   "metadata": {
    "execution": {
     "iopub.execute_input": "2023-12-10T23:01:34.475312Z",
     "iopub.status.busy": "2023-12-10T23:01:34.475027Z",
     "iopub.status.idle": "2023-12-10T23:01:34.480551Z",
     "shell.execute_reply": "2023-12-10T23:01:34.479687Z"
    },
    "papermill": {
     "duration": 0.01674,
     "end_time": "2023-12-10T23:01:34.482454",
     "exception": false,
     "start_time": "2023-12-10T23:01:34.465714",
     "status": "completed"
    },
    "tags": []
   },
   "outputs": [],
   "source": [
    "def inp_ids(text):\n",
    "  return tokenizer(text, return_tensors=\"pt\", padding=True, truncation=True)['input_ids']\n",
    "\n",
    "def token_types(text):\n",
    "  return tokenizer(text, return_tensors=\"pt\", padding=True, truncation=True)['token_type_ids']\n",
    "\n",
    "def attn_mask(text):\n",
    "  return tokenizer(text, return_tensors=\"pt\", padding=True, truncation=True)['attention_mask']"
   ]
  },
  {
   "cell_type": "code",
   "execution_count": 8,
   "id": "c9302654",
   "metadata": {
    "execution": {
     "iopub.execute_input": "2023-12-10T23:01:34.501127Z",
     "iopub.status.busy": "2023-12-10T23:01:34.500829Z",
     "iopub.status.idle": "2023-12-10T23:02:05.640642Z",
     "shell.execute_reply": "2023-12-10T23:02:05.639776Z"
    },
    "papermill": {
     "duration": 31.151384,
     "end_time": "2023-12-10T23:02:05.643133",
     "exception": false,
     "start_time": "2023-12-10T23:01:34.491749",
     "status": "completed"
    },
    "tags": []
   },
   "outputs": [],
   "source": [
    "df['input_ids'] = df['sentence'].apply(inp_ids)\n",
    "df['token_type_ids'] = df['sentence'].apply(token_types)\n",
    "df['attention_mask'] = df['sentence'].apply(attn_mask)"
   ]
  },
  {
   "cell_type": "code",
   "execution_count": 9,
   "id": "e09ea8bd",
   "metadata": {
    "execution": {
     "iopub.execute_input": "2023-12-10T23:02:05.662585Z",
     "iopub.status.busy": "2023-12-10T23:02:05.662241Z",
     "iopub.status.idle": "2023-12-10T23:02:05.800215Z",
     "shell.execute_reply": "2023-12-10T23:02:05.799262Z"
    },
    "papermill": {
     "duration": 0.14992,
     "end_time": "2023-12-10T23:02:05.802387",
     "exception": false,
     "start_time": "2023-12-10T23:02:05.652467",
     "status": "completed"
    },
    "tags": []
   },
   "outputs": [
    {
     "data": {
      "text/html": [
       "<div>\n",
       "<style scoped>\n",
       "    .dataframe tbody tr th:only-of-type {\n",
       "        vertical-align: middle;\n",
       "    }\n",
       "\n",
       "    .dataframe tbody tr th {\n",
       "        vertical-align: top;\n",
       "    }\n",
       "\n",
       "    .dataframe thead th {\n",
       "        text-align: right;\n",
       "    }\n",
       "</style>\n",
       "<table border=\"1\" class=\"dataframe\">\n",
       "  <thead>\n",
       "    <tr style=\"text-align: right;\">\n",
       "      <th></th>\n",
       "      <th>sentence_index</th>\n",
       "      <th>sentence</th>\n",
       "      <th>input_ids</th>\n",
       "      <th>token_type_ids</th>\n",
       "      <th>attention_mask</th>\n",
       "    </tr>\n",
       "  </thead>\n",
       "  <tbody>\n",
       "    <tr>\n",
       "      <th>0</th>\n",
       "      <td>1</td>\n",
       "      <td>The Rock is destined to be the 21st Century 's...</td>\n",
       "      <td>[[tensor(101), tensor(1996), tensor(2600), ten...</td>\n",
       "      <td>[[tensor(0), tensor(0), tensor(0), tensor(0), ...</td>\n",
       "      <td>[[tensor(1), tensor(1), tensor(1), tensor(1), ...</td>\n",
       "    </tr>\n",
       "    <tr>\n",
       "      <th>1</th>\n",
       "      <td>2</td>\n",
       "      <td>The gorgeously elaborate continuation of `` Th...</td>\n",
       "      <td>[[tensor(101), tensor(1996), tensor(9882), ten...</td>\n",
       "      <td>[[tensor(0), tensor(0), tensor(0), tensor(0), ...</td>\n",
       "      <td>[[tensor(1), tensor(1), tensor(1), tensor(1), ...</td>\n",
       "    </tr>\n",
       "    <tr>\n",
       "      <th>2</th>\n",
       "      <td>3</td>\n",
       "      <td>Effective but too-tepid biopic</td>\n",
       "      <td>[[tensor(101), tensor(4621), tensor(2021), ten...</td>\n",
       "      <td>[[tensor(0), tensor(0), tensor(0), tensor(0), ...</td>\n",
       "      <td>[[tensor(1), tensor(1), tensor(1), tensor(1), ...</td>\n",
       "    </tr>\n",
       "    <tr>\n",
       "      <th>3</th>\n",
       "      <td>4</td>\n",
       "      <td>If you sometimes like to go to the movies to h...</td>\n",
       "      <td>[[tensor(101), tensor(2065), tensor(2017), ten...</td>\n",
       "      <td>[[tensor(0), tensor(0), tensor(0), tensor(0), ...</td>\n",
       "      <td>[[tensor(1), tensor(1), tensor(1), tensor(1), ...</td>\n",
       "    </tr>\n",
       "    <tr>\n",
       "      <th>4</th>\n",
       "      <td>5</td>\n",
       "      <td>Emerges as something rare ; an issue movie tha...</td>\n",
       "      <td>[[tensor(101), tensor(19391), tensor(2004), te...</td>\n",
       "      <td>[[tensor(0), tensor(0), tensor(0), tensor(0), ...</td>\n",
       "      <td>[[tensor(1), tensor(1), tensor(1), tensor(1), ...</td>\n",
       "    </tr>\n",
       "    <tr>\n",
       "      <th>...</th>\n",
       "      <td>...</td>\n",
       "      <td>...</td>\n",
       "      <td>...</td>\n",
       "      <td>...</td>\n",
       "      <td>...</td>\n",
       "    </tr>\n",
       "    <tr>\n",
       "      <th>11850</th>\n",
       "      <td>11851</td>\n",
       "      <td>A real snooze .</td>\n",
       "      <td>[[tensor(101), tensor(1037), tensor(2613), ten...</td>\n",
       "      <td>[[tensor(0), tensor(0), tensor(0), tensor(0), ...</td>\n",
       "      <td>[[tensor(1), tensor(1), tensor(1), tensor(1), ...</td>\n",
       "    </tr>\n",
       "    <tr>\n",
       "      <th>11851</th>\n",
       "      <td>11852</td>\n",
       "      <td>No surprises .</td>\n",
       "      <td>[[tensor(101), tensor(2053), tensor(20096), te...</td>\n",
       "      <td>[[tensor(0), tensor(0), tensor(0), tensor(0), ...</td>\n",
       "      <td>[[tensor(1), tensor(1), tensor(1), tensor(1), ...</td>\n",
       "    </tr>\n",
       "    <tr>\n",
       "      <th>11852</th>\n",
       "      <td>11853</td>\n",
       "      <td>We 've seen the hippie-turned-yuppie plot befo...</td>\n",
       "      <td>[[tensor(101), tensor(2057), tensor(1005), ten...</td>\n",
       "      <td>[[tensor(0), tensor(0), tensor(0), tensor(0), ...</td>\n",
       "      <td>[[tensor(1), tensor(1), tensor(1), tensor(1), ...</td>\n",
       "    </tr>\n",
       "    <tr>\n",
       "      <th>11853</th>\n",
       "      <td>11854</td>\n",
       "      <td>Her fans walked out muttering words like `` ho...</td>\n",
       "      <td>[[tensor(101), tensor(2014), tensor(4599), ten...</td>\n",
       "      <td>[[tensor(0), tensor(0), tensor(0), tensor(0), ...</td>\n",
       "      <td>[[tensor(1), tensor(1), tensor(1), tensor(1), ...</td>\n",
       "    </tr>\n",
       "    <tr>\n",
       "      <th>11854</th>\n",
       "      <td>11855</td>\n",
       "      <td>In this case zero .</td>\n",
       "      <td>[[tensor(101), tensor(1999), tensor(2023), ten...</td>\n",
       "      <td>[[tensor(0), tensor(0), tensor(0), tensor(0), ...</td>\n",
       "      <td>[[tensor(1), tensor(1), tensor(1), tensor(1), ...</td>\n",
       "    </tr>\n",
       "  </tbody>\n",
       "</table>\n",
       "<p>11855 rows × 5 columns</p>\n",
       "</div>"
      ],
      "text/plain": [
       "       sentence_index                                           sentence  \\\n",
       "0                   1  The Rock is destined to be the 21st Century 's...   \n",
       "1                   2  The gorgeously elaborate continuation of `` Th...   \n",
       "2                   3                     Effective but too-tepid biopic   \n",
       "3                   4  If you sometimes like to go to the movies to h...   \n",
       "4                   5  Emerges as something rare ; an issue movie tha...   \n",
       "...               ...                                                ...   \n",
       "11850           11851                                    A real snooze .   \n",
       "11851           11852                                     No surprises .   \n",
       "11852           11853  We 've seen the hippie-turned-yuppie plot befo...   \n",
       "11853           11854  Her fans walked out muttering words like `` ho...   \n",
       "11854           11855                                In this case zero .   \n",
       "\n",
       "                                               input_ids  \\\n",
       "0      [[tensor(101), tensor(1996), tensor(2600), ten...   \n",
       "1      [[tensor(101), tensor(1996), tensor(9882), ten...   \n",
       "2      [[tensor(101), tensor(4621), tensor(2021), ten...   \n",
       "3      [[tensor(101), tensor(2065), tensor(2017), ten...   \n",
       "4      [[tensor(101), tensor(19391), tensor(2004), te...   \n",
       "...                                                  ...   \n",
       "11850  [[tensor(101), tensor(1037), tensor(2613), ten...   \n",
       "11851  [[tensor(101), tensor(2053), tensor(20096), te...   \n",
       "11852  [[tensor(101), tensor(2057), tensor(1005), ten...   \n",
       "11853  [[tensor(101), tensor(2014), tensor(4599), ten...   \n",
       "11854  [[tensor(101), tensor(1999), tensor(2023), ten...   \n",
       "\n",
       "                                          token_type_ids  \\\n",
       "0      [[tensor(0), tensor(0), tensor(0), tensor(0), ...   \n",
       "1      [[tensor(0), tensor(0), tensor(0), tensor(0), ...   \n",
       "2      [[tensor(0), tensor(0), tensor(0), tensor(0), ...   \n",
       "3      [[tensor(0), tensor(0), tensor(0), tensor(0), ...   \n",
       "4      [[tensor(0), tensor(0), tensor(0), tensor(0), ...   \n",
       "...                                                  ...   \n",
       "11850  [[tensor(0), tensor(0), tensor(0), tensor(0), ...   \n",
       "11851  [[tensor(0), tensor(0), tensor(0), tensor(0), ...   \n",
       "11852  [[tensor(0), tensor(0), tensor(0), tensor(0), ...   \n",
       "11853  [[tensor(0), tensor(0), tensor(0), tensor(0), ...   \n",
       "11854  [[tensor(0), tensor(0), tensor(0), tensor(0), ...   \n",
       "\n",
       "                                          attention_mask  \n",
       "0      [[tensor(1), tensor(1), tensor(1), tensor(1), ...  \n",
       "1      [[tensor(1), tensor(1), tensor(1), tensor(1), ...  \n",
       "2      [[tensor(1), tensor(1), tensor(1), tensor(1), ...  \n",
       "3      [[tensor(1), tensor(1), tensor(1), tensor(1), ...  \n",
       "4      [[tensor(1), tensor(1), tensor(1), tensor(1), ...  \n",
       "...                                                  ...  \n",
       "11850  [[tensor(1), tensor(1), tensor(1), tensor(1), ...  \n",
       "11851  [[tensor(1), tensor(1), tensor(1), tensor(1), ...  \n",
       "11852  [[tensor(1), tensor(1), tensor(1), tensor(1), ...  \n",
       "11853  [[tensor(1), tensor(1), tensor(1), tensor(1), ...  \n",
       "11854  [[tensor(1), tensor(1), tensor(1), tensor(1), ...  \n",
       "\n",
       "[11855 rows x 5 columns]"
      ]
     },
     "execution_count": 9,
     "metadata": {},
     "output_type": "execute_result"
    }
   ],
   "source": [
    "df"
   ]
  },
  {
   "cell_type": "code",
   "execution_count": 10,
   "id": "93985317",
   "metadata": {
    "execution": {
     "iopub.execute_input": "2023-12-10T23:02:05.821849Z",
     "iopub.status.busy": "2023-12-10T23:02:05.821574Z",
     "iopub.status.idle": "2023-12-10T23:02:05.826696Z",
     "shell.execute_reply": "2023-12-10T23:02:05.825951Z"
    },
    "papermill": {
     "duration": 0.016723,
     "end_time": "2023-12-10T23:02:05.828645",
     "exception": false,
     "start_time": "2023-12-10T23:02:05.811922",
     "status": "completed"
    },
    "tags": []
   },
   "outputs": [],
   "source": [
    "def extract_embeddings(row):\n",
    "    inputs = {\n",
    "        'input_ids': row['input_ids'].cuda(),\n",
    "        'token_type_ids': row['token_type_ids'].cuda(),\n",
    "        'attention_mask': row['attention_mask'].cuda()\n",
    "    }\n",
    "\n",
    "    with torch.no_grad():\n",
    "        outputs = model(**inputs)\n",
    "        embeddings = outputs.last_hidden_state\n",
    "        return embeddings.cpu().numpy()"
   ]
  },
  {
   "cell_type": "code",
   "execution_count": 11,
   "id": "791f4d69",
   "metadata": {
    "execution": {
     "iopub.execute_input": "2023-12-10T23:02:05.847316Z",
     "iopub.status.busy": "2023-12-10T23:02:05.847027Z",
     "iopub.status.idle": "2023-12-10T23:04:30.660784Z",
     "shell.execute_reply": "2023-12-10T23:04:30.659681Z"
    },
    "papermill": {
     "duration": 144.825909,
     "end_time": "2023-12-10T23:04:30.663410",
     "exception": false,
     "start_time": "2023-12-10T23:02:05.837501",
     "status": "completed"
    },
    "tags": []
   },
   "outputs": [],
   "source": [
    "df['embeddings'] = df[['input_ids','token_type_ids','attention_mask']].apply(extract_embeddings, axis=1)"
   ]
  },
  {
   "cell_type": "code",
   "execution_count": 12,
   "id": "18f9dc24",
   "metadata": {
    "execution": {
     "iopub.execute_input": "2023-12-10T23:04:30.683141Z",
     "iopub.status.busy": "2023-12-10T23:04:30.682821Z",
     "iopub.status.idle": "2023-12-10T23:04:30.692639Z",
     "shell.execute_reply": "2023-12-10T23:04:30.691770Z"
    },
    "papermill": {
     "duration": 0.021637,
     "end_time": "2023-12-10T23:04:30.694620",
     "exception": false,
     "start_time": "2023-12-10T23:04:30.672983",
     "status": "completed"
    },
    "tags": []
   },
   "outputs": [],
   "source": [
    "# Find the maximum sequence length\n",
    "max_length = max([tensor.shape[1] for tensor in df.embeddings])"
   ]
  },
  {
   "cell_type": "code",
   "execution_count": 13,
   "id": "d8380f74",
   "metadata": {
    "execution": {
     "iopub.execute_input": "2023-12-10T23:04:30.713436Z",
     "iopub.status.busy": "2023-12-10T23:04:30.713159Z",
     "iopub.status.idle": "2023-12-10T23:04:30.718152Z",
     "shell.execute_reply": "2023-12-10T23:04:30.717195Z"
    },
    "papermill": {
     "duration": 0.016653,
     "end_time": "2023-12-10T23:04:30.720301",
     "exception": false,
     "start_time": "2023-12-10T23:04:30.703648",
     "status": "completed"
    },
    "tags": []
   },
   "outputs": [],
   "source": [
    "def pad_tensor(tensor, max_length):\n",
    "    padding_length = max_length - tensor.shape[1]\n",
    "    if padding_length > 0:\n",
    "        pad =(0, 0, 0, padding_length)\n",
    "        tensor = torch.nn.functional.pad(tensor, pad, \"constant\", 0)\n",
    "    return tensor\n"
   ]
  },
  {
   "cell_type": "code",
   "execution_count": 14,
   "id": "2abaa674",
   "metadata": {
    "execution": {
     "iopub.execute_input": "2023-12-10T23:04:30.738872Z",
     "iopub.status.busy": "2023-12-10T23:04:30.738625Z",
     "iopub.status.idle": "2023-12-10T23:04:32.148362Z",
     "shell.execute_reply": "2023-12-10T23:04:32.147415Z"
    },
    "papermill": {
     "duration": 1.421788,
     "end_time": "2023-12-10T23:04:32.150849",
     "exception": false,
     "start_time": "2023-12-10T23:04:30.729061",
     "status": "completed"
    },
    "tags": []
   },
   "outputs": [],
   "source": [
    "# Pad each tensor in the DataFrame\n",
    "X = [pad_tensor(torch.tensor(tensor), max_length) for tensor in df.embeddings]"
   ]
  },
  {
   "cell_type": "code",
   "execution_count": 15,
   "id": "5aad44fa",
   "metadata": {
    "execution": {
     "iopub.execute_input": "2023-12-10T23:04:32.171355Z",
     "iopub.status.busy": "2023-12-10T23:04:32.171043Z",
     "iopub.status.idle": "2023-12-10T23:04:33.240644Z",
     "shell.execute_reply": "2023-12-10T23:04:33.239506Z"
    },
    "papermill": {
     "duration": 1.082265,
     "end_time": "2023-12-10T23:04:33.243081",
     "exception": false,
     "start_time": "2023-12-10T23:04:32.160816",
     "status": "completed"
    },
    "tags": []
   },
   "outputs": [],
   "source": [
    "# Now you can stack them\n",
    "X = torch.vstack(X)"
   ]
  },
  {
   "cell_type": "code",
   "execution_count": 16,
   "id": "9193539b",
   "metadata": {
    "execution": {
     "iopub.execute_input": "2023-12-10T23:04:33.262191Z",
     "iopub.status.busy": "2023-12-10T23:04:33.261755Z",
     "iopub.status.idle": "2023-12-10T23:04:33.823891Z",
     "shell.execute_reply": "2023-12-10T23:04:33.822785Z"
    },
    "papermill": {
     "duration": 0.574185,
     "end_time": "2023-12-10T23:04:33.826353",
     "exception": false,
     "start_time": "2023-12-10T23:04:33.252168",
     "status": "completed"
    },
    "tags": []
   },
   "outputs": [],
   "source": [
    "X = [tensor.mean(dim=0) for tensor in X]"
   ]
  },
  {
   "cell_type": "code",
   "execution_count": 17,
   "id": "1ec169a1",
   "metadata": {
    "execution": {
     "iopub.execute_input": "2023-12-10T23:04:33.846772Z",
     "iopub.status.busy": "2023-12-10T23:04:33.846463Z",
     "iopub.status.idle": "2023-12-10T23:04:33.932424Z",
     "shell.execute_reply": "2023-12-10T23:04:33.931610Z"
    },
    "papermill": {
     "duration": 0.098554,
     "end_time": "2023-12-10T23:04:33.934667",
     "exception": false,
     "start_time": "2023-12-10T23:04:33.836113",
     "status": "completed"
    },
    "tags": []
   },
   "outputs": [],
   "source": [
    "X = torch.vstack(X)"
   ]
  },
  {
   "cell_type": "code",
   "execution_count": 18,
   "id": "cc4afa2c",
   "metadata": {
    "execution": {
     "iopub.execute_input": "2023-12-10T23:04:33.955521Z",
     "iopub.status.busy": "2023-12-10T23:04:33.955186Z",
     "iopub.status.idle": "2023-12-10T23:04:33.961674Z",
     "shell.execute_reply": "2023-12-10T23:04:33.960832Z"
    },
    "papermill": {
     "duration": 0.018891,
     "end_time": "2023-12-10T23:04:33.963578",
     "exception": false,
     "start_time": "2023-12-10T23:04:33.944687",
     "status": "completed"
    },
    "tags": []
   },
   "outputs": [
    {
     "data": {
      "text/plain": [
       "torch.Size([11855, 768])"
      ]
     },
     "execution_count": 18,
     "metadata": {},
     "output_type": "execute_result"
    }
   ],
   "source": [
    "X.shape"
   ]
  },
  {
   "cell_type": "code",
   "execution_count": 19,
   "id": "c1ac44a7",
   "metadata": {
    "execution": {
     "iopub.execute_input": "2023-12-10T23:04:33.982323Z",
     "iopub.status.busy": "2023-12-10T23:04:33.982069Z",
     "iopub.status.idle": "2023-12-10T23:04:33.991961Z",
     "shell.execute_reply": "2023-12-10T23:04:33.991110Z"
    },
    "papermill": {
     "duration": 0.021404,
     "end_time": "2023-12-10T23:04:33.993921",
     "exception": false,
     "start_time": "2023-12-10T23:04:33.972517",
     "status": "completed"
    },
    "tags": []
   },
   "outputs": [
    {
     "data": {
      "text/html": [
       "<div>\n",
       "<style scoped>\n",
       "    .dataframe tbody tr th:only-of-type {\n",
       "        vertical-align: middle;\n",
       "    }\n",
       "\n",
       "    .dataframe tbody tr th {\n",
       "        vertical-align: top;\n",
       "    }\n",
       "\n",
       "    .dataframe thead th {\n",
       "        text-align: right;\n",
       "    }\n",
       "</style>\n",
       "<table border=\"1\" class=\"dataframe\">\n",
       "  <thead>\n",
       "    <tr style=\"text-align: right;\">\n",
       "      <th></th>\n",
       "      <th>sentence_index</th>\n",
       "      <th>splitset_label</th>\n",
       "    </tr>\n",
       "  </thead>\n",
       "  <tbody>\n",
       "    <tr>\n",
       "      <th>0</th>\n",
       "      <td>1</td>\n",
       "      <td>1</td>\n",
       "    </tr>\n",
       "    <tr>\n",
       "      <th>1</th>\n",
       "      <td>2</td>\n",
       "      <td>1</td>\n",
       "    </tr>\n",
       "    <tr>\n",
       "      <th>2</th>\n",
       "      <td>3</td>\n",
       "      <td>2</td>\n",
       "    </tr>\n",
       "    <tr>\n",
       "      <th>3</th>\n",
       "      <td>4</td>\n",
       "      <td>2</td>\n",
       "    </tr>\n",
       "    <tr>\n",
       "      <th>4</th>\n",
       "      <td>5</td>\n",
       "      <td>2</td>\n",
       "    </tr>\n",
       "    <tr>\n",
       "      <th>...</th>\n",
       "      <td>...</td>\n",
       "      <td>...</td>\n",
       "    </tr>\n",
       "    <tr>\n",
       "      <th>11850</th>\n",
       "      <td>11851</td>\n",
       "      <td>1</td>\n",
       "    </tr>\n",
       "    <tr>\n",
       "      <th>11851</th>\n",
       "      <td>11852</td>\n",
       "      <td>1</td>\n",
       "    </tr>\n",
       "    <tr>\n",
       "      <th>11852</th>\n",
       "      <td>11853</td>\n",
       "      <td>1</td>\n",
       "    </tr>\n",
       "    <tr>\n",
       "      <th>11853</th>\n",
       "      <td>11854</td>\n",
       "      <td>1</td>\n",
       "    </tr>\n",
       "    <tr>\n",
       "      <th>11854</th>\n",
       "      <td>11855</td>\n",
       "      <td>1</td>\n",
       "    </tr>\n",
       "  </tbody>\n",
       "</table>\n",
       "<p>11855 rows × 2 columns</p>\n",
       "</div>"
      ],
      "text/plain": [
       "       sentence_index  splitset_label\n",
       "0                   1               1\n",
       "1                   2               1\n",
       "2                   3               2\n",
       "3                   4               2\n",
       "4                   5               2\n",
       "...               ...             ...\n",
       "11850           11851               1\n",
       "11851           11852               1\n",
       "11852           11853               1\n",
       "11853           11854               1\n",
       "11854           11855               1\n",
       "\n",
       "[11855 rows x 2 columns]"
      ]
     },
     "execution_count": 19,
     "metadata": {},
     "output_type": "execute_result"
    }
   ],
   "source": [
    "labels"
   ]
  },
  {
   "cell_type": "code",
   "execution_count": 20,
   "id": "199954d7",
   "metadata": {
    "execution": {
     "iopub.execute_input": "2023-12-10T23:04:34.013020Z",
     "iopub.status.busy": "2023-12-10T23:04:34.012731Z",
     "iopub.status.idle": "2023-12-10T23:04:34.016794Z",
     "shell.execute_reply": "2023-12-10T23:04:34.015947Z"
    },
    "papermill": {
     "duration": 0.015769,
     "end_time": "2023-12-10T23:04:34.018701",
     "exception": false,
     "start_time": "2023-12-10T23:04:34.002932",
     "status": "completed"
    },
    "tags": []
   },
   "outputs": [],
   "source": [
    "y = labels['splitset_label'].values"
   ]
  },
  {
   "cell_type": "code",
   "execution_count": 21,
   "id": "75428820",
   "metadata": {
    "execution": {
     "iopub.execute_input": "2023-12-10T23:04:34.037917Z",
     "iopub.status.busy": "2023-12-10T23:04:34.037357Z",
     "iopub.status.idle": "2023-12-10T23:04:34.055299Z",
     "shell.execute_reply": "2023-12-10T23:04:34.054530Z"
    },
    "papermill": {
     "duration": 0.029428,
     "end_time": "2023-12-10T23:04:34.057073",
     "exception": false,
     "start_time": "2023-12-10T23:04:34.027645",
     "status": "completed"
    },
    "tags": []
   },
   "outputs": [
    {
     "data": {
      "text/plain": [
       "splitset_label\n",
       "1    8544\n",
       "2    2210\n",
       "3    1101\n",
       "Name: count, dtype: int64"
      ]
     },
     "execution_count": 21,
     "metadata": {},
     "output_type": "execute_result"
    }
   ],
   "source": [
    "labels['splitset_label'].value_counts()"
   ]
  },
  {
   "cell_type": "code",
   "execution_count": 22,
   "id": "0c15fe03",
   "metadata": {
    "execution": {
     "iopub.execute_input": "2023-12-10T23:04:34.077439Z",
     "iopub.status.busy": "2023-12-10T23:04:34.077180Z",
     "iopub.status.idle": "2023-12-10T23:04:37.174947Z",
     "shell.execute_reply": "2023-12-10T23:04:37.173540Z"
    },
    "papermill": {
     "duration": 3.111073,
     "end_time": "2023-12-10T23:04:37.177234",
     "exception": false,
     "start_time": "2023-12-10T23:04:34.066161",
     "status": "completed"
    },
    "tags": []
   },
   "outputs": [
    {
     "name": "stderr",
     "output_type": "stream",
     "text": [
      "/opt/conda/lib/python3.10/site-packages/scipy/__init__.py:146: UserWarning: A NumPy version >=1.16.5 and <1.23.0 is required for this version of SciPy (detected version 1.24.3\n",
      "  warnings.warn(f\"A NumPy version >={np_minversion} and <{np_maxversion}\"\n"
     ]
    }
   ],
   "source": [
    "from imblearn.over_sampling import SMOTE\n",
    "\n",
    "# Instantiate SMOTE\n",
    "smote = SMOTE(sampling_strategy='auto', random_state=42)\n",
    "\n",
    "# Apply SMOTE to the data\n",
    "X_resampled, y_resampled = smote.fit_resample(X, y)\n"
   ]
  },
  {
   "cell_type": "code",
   "execution_count": 23,
   "id": "380682f9",
   "metadata": {
    "execution": {
     "iopub.execute_input": "2023-12-10T23:04:37.197983Z",
     "iopub.status.busy": "2023-12-10T23:04:37.197547Z",
     "iopub.status.idle": "2023-12-10T23:04:37.219114Z",
     "shell.execute_reply": "2023-12-10T23:04:37.218411Z"
    },
    "papermill": {
     "duration": 0.033892,
     "end_time": "2023-12-10T23:04:37.221030",
     "exception": false,
     "start_time": "2023-12-10T23:04:37.187138",
     "status": "completed"
    },
    "tags": []
   },
   "outputs": [],
   "source": [
    "from sklearn.model_selection import train_test_split\n",
    "\n",
    "# Split the data into training and testing sets\n",
    "X_train, X_test, y_train, y_test = train_test_split(X_resampled, y_resampled, test_size=0.2, random_state=42)"
   ]
  },
  {
   "cell_type": "code",
   "execution_count": 24,
   "id": "417b32ac",
   "metadata": {
    "execution": {
     "iopub.execute_input": "2023-12-10T23:04:37.241019Z",
     "iopub.status.busy": "2023-12-10T23:04:37.240726Z",
     "iopub.status.idle": "2023-12-10T23:05:56.044268Z",
     "shell.execute_reply": "2023-12-10T23:05:56.043292Z"
    },
    "papermill": {
     "duration": 78.827362,
     "end_time": "2023-12-10T23:05:56.057670",
     "exception": false,
     "start_time": "2023-12-10T23:04:37.230308",
     "status": "completed"
    },
    "tags": []
   },
   "outputs": [
    {
     "data": {
      "text/html": [
       "<style>#sk-container-id-1 {color: black;background-color: white;}#sk-container-id-1 pre{padding: 0;}#sk-container-id-1 div.sk-toggleable {background-color: white;}#sk-container-id-1 label.sk-toggleable__label {cursor: pointer;display: block;width: 100%;margin-bottom: 0;padding: 0.3em;box-sizing: border-box;text-align: center;}#sk-container-id-1 label.sk-toggleable__label-arrow:before {content: \"▸\";float: left;margin-right: 0.25em;color: #696969;}#sk-container-id-1 label.sk-toggleable__label-arrow:hover:before {color: black;}#sk-container-id-1 div.sk-estimator:hover label.sk-toggleable__label-arrow:before {color: black;}#sk-container-id-1 div.sk-toggleable__content {max-height: 0;max-width: 0;overflow: hidden;text-align: left;background-color: #f0f8ff;}#sk-container-id-1 div.sk-toggleable__content pre {margin: 0.2em;color: black;border-radius: 0.25em;background-color: #f0f8ff;}#sk-container-id-1 input.sk-toggleable__control:checked~div.sk-toggleable__content {max-height: 200px;max-width: 100%;overflow: auto;}#sk-container-id-1 input.sk-toggleable__control:checked~label.sk-toggleable__label-arrow:before {content: \"▾\";}#sk-container-id-1 div.sk-estimator input.sk-toggleable__control:checked~label.sk-toggleable__label {background-color: #d4ebff;}#sk-container-id-1 div.sk-label input.sk-toggleable__control:checked~label.sk-toggleable__label {background-color: #d4ebff;}#sk-container-id-1 input.sk-hidden--visually {border: 0;clip: rect(1px 1px 1px 1px);clip: rect(1px, 1px, 1px, 1px);height: 1px;margin: -1px;overflow: hidden;padding: 0;position: absolute;width: 1px;}#sk-container-id-1 div.sk-estimator {font-family: monospace;background-color: #f0f8ff;border: 1px dotted black;border-radius: 0.25em;box-sizing: border-box;margin-bottom: 0.5em;}#sk-container-id-1 div.sk-estimator:hover {background-color: #d4ebff;}#sk-container-id-1 div.sk-parallel-item::after {content: \"\";width: 100%;border-bottom: 1px solid gray;flex-grow: 1;}#sk-container-id-1 div.sk-label:hover label.sk-toggleable__label {background-color: #d4ebff;}#sk-container-id-1 div.sk-serial::before {content: \"\";position: absolute;border-left: 1px solid gray;box-sizing: border-box;top: 0;bottom: 0;left: 50%;z-index: 0;}#sk-container-id-1 div.sk-serial {display: flex;flex-direction: column;align-items: center;background-color: white;padding-right: 0.2em;padding-left: 0.2em;position: relative;}#sk-container-id-1 div.sk-item {position: relative;z-index: 1;}#sk-container-id-1 div.sk-parallel {display: flex;align-items: stretch;justify-content: center;background-color: white;position: relative;}#sk-container-id-1 div.sk-item::before, #sk-container-id-1 div.sk-parallel-item::before {content: \"\";position: absolute;border-left: 1px solid gray;box-sizing: border-box;top: 0;bottom: 0;left: 50%;z-index: -1;}#sk-container-id-1 div.sk-parallel-item {display: flex;flex-direction: column;z-index: 1;position: relative;background-color: white;}#sk-container-id-1 div.sk-parallel-item:first-child::after {align-self: flex-end;width: 50%;}#sk-container-id-1 div.sk-parallel-item:last-child::after {align-self: flex-start;width: 50%;}#sk-container-id-1 div.sk-parallel-item:only-child::after {width: 0;}#sk-container-id-1 div.sk-dashed-wrapped {border: 1px dashed gray;margin: 0 0.4em 0.5em 0.4em;box-sizing: border-box;padding-bottom: 0.4em;background-color: white;}#sk-container-id-1 div.sk-label label {font-family: monospace;font-weight: bold;display: inline-block;line-height: 1.2em;}#sk-container-id-1 div.sk-label-container {text-align: center;}#sk-container-id-1 div.sk-container {/* jupyter's `normalize.less` sets `[hidden] { display: none; }` but bootstrap.min.css set `[hidden] { display: none !important; }` so we also need the `!important` here to be able to override the default hidden behavior on the sphinx rendered scikit-learn.org. See: https://github.com/scikit-learn/scikit-learn/issues/21755 */display: inline-block !important;position: relative;}#sk-container-id-1 div.sk-text-repr-fallback {display: none;}</style><div id=\"sk-container-id-1\" class=\"sk-top-container\"><div class=\"sk-text-repr-fallback\"><pre>RandomForestClassifier(random_state=42)</pre><b>In a Jupyter environment, please rerun this cell to show the HTML representation or trust the notebook. <br />On GitHub, the HTML representation is unable to render, please try loading this page with nbviewer.org.</b></div><div class=\"sk-container\" hidden><div class=\"sk-item\"><div class=\"sk-estimator sk-toggleable\"><input class=\"sk-toggleable__control sk-hidden--visually\" id=\"sk-estimator-id-1\" type=\"checkbox\" checked><label for=\"sk-estimator-id-1\" class=\"sk-toggleable__label sk-toggleable__label-arrow\">RandomForestClassifier</label><div class=\"sk-toggleable__content\"><pre>RandomForestClassifier(random_state=42)</pre></div></div></div></div></div>"
      ],
      "text/plain": [
       "RandomForestClassifier(random_state=42)"
      ]
     },
     "execution_count": 24,
     "metadata": {},
     "output_type": "execute_result"
    }
   ],
   "source": [
    "from sklearn.ensemble import RandomForestClassifier\n",
    "\n",
    "# Create a random forest classifier with 100 trees (you can adjust this parameter)\n",
    "clf = RandomForestClassifier(n_estimators=100, random_state=42)\n",
    "\n",
    "# Train the classifier\n",
    "clf.fit(X_train, y_train)\n"
   ]
  },
  {
   "cell_type": "code",
   "execution_count": 25,
   "id": "78f41e4d",
   "metadata": {
    "execution": {
     "iopub.execute_input": "2023-12-10T23:05:56.120663Z",
     "iopub.status.busy": "2023-12-10T23:05:56.119787Z",
     "iopub.status.idle": "2023-12-10T23:05:56.291953Z",
     "shell.execute_reply": "2023-12-10T23:05:56.290736Z"
    },
    "papermill": {
     "duration": 0.226884,
     "end_time": "2023-12-10T23:05:56.294175",
     "exception": false,
     "start_time": "2023-12-10T23:05:56.067291",
     "status": "completed"
    },
    "tags": []
   },
   "outputs": [
    {
     "name": "stdout",
     "output_type": "stream",
     "text": [
      "Accuracy: 0.9163253364540667\n",
      "Classification Report:\n",
      "               precision    recall  f1-score   support\n",
      "\n",
      "           1       0.87      0.90      0.88      1744\n",
      "           2       0.91      0.89      0.90      1705\n",
      "           3       0.97      0.96      0.97      1678\n",
      "\n",
      "    accuracy                           0.92      5127\n",
      "   macro avg       0.92      0.92      0.92      5127\n",
      "weighted avg       0.92      0.92      0.92      5127\n",
      "\n"
     ]
    }
   ],
   "source": [
    "# Make predictions on the test set\n",
    "predictions = clf.predict(X_test)\n",
    "\n",
    "# Evaluate the model\n",
    "from sklearn.metrics import accuracy_score, classification_report\n",
    "\n",
    "accuracy = accuracy_score(y_test, predictions)\n",
    "report = classification_report(y_test, predictions)\n",
    "\n",
    "print(\"Accuracy:\", accuracy)\n",
    "print(\"Classification Report:\\n\", report)\n"
   ]
  },
  {
   "cell_type": "code",
   "execution_count": null,
   "id": "f5ba095a",
   "metadata": {
    "papermill": {
     "duration": 0.009443,
     "end_time": "2023-12-10T23:05:56.313837",
     "exception": false,
     "start_time": "2023-12-10T23:05:56.304394",
     "status": "completed"
    },
    "tags": []
   },
   "outputs": [],
   "source": []
  }
 ],
 "metadata": {
  "kaggle": {
   "accelerator": "nvidiaTeslaT4",
   "dataSources": [],
   "dockerImageVersionId": 30616,
   "isGpuEnabled": true,
   "isInternetEnabled": true,
   "language": "python",
   "sourceType": "notebook"
  },
  "kernelspec": {
   "display_name": "Python 3",
   "language": "python",
   "name": "python3"
  },
  "language_info": {
   "codemirror_mode": {
    "name": "ipython",
    "version": 3
   },
   "file_extension": ".py",
   "mimetype": "text/x-python",
   "name": "python",
   "nbconvert_exporter": "python",
   "pygments_lexer": "ipython3",
   "version": "3.10.12"
  },
  "papermill": {
   "default_parameters": {},
   "duration": 295.544051,
   "end_time": "2023-12-10T23:05:59.436833",
   "environment_variables": {},
   "exception": null,
   "input_path": "__notebook__.ipynb",
   "output_path": "__notebook__.ipynb",
   "parameters": {},
   "start_time": "2023-12-10T23:01:03.892782",
   "version": "2.4.0"
  },
  "widgets": {
   "application/vnd.jupyter.widget-state+json": {
    "state": {
     "04e0a46fed874ac68851d34d00fd227f": {
      "model_module": "@jupyter-widgets/controls",
      "model_module_version": "1.5.0",
      "model_name": "HBoxModel",
      "state": {
       "_dom_classes": [],
       "_model_module": "@jupyter-widgets/controls",
       "_model_module_version": "1.5.0",
       "_model_name": "HBoxModel",
       "_view_count": null,
       "_view_module": "@jupyter-widgets/controls",
       "_view_module_version": "1.5.0",
       "_view_name": "HBoxView",
       "box_style": "",
       "children": [
        "IPY_MODEL_11a30b8ece8a4fdabbef8150c666077c",
        "IPY_MODEL_a5f733750dee449983d2e21b9e1cb82e",
        "IPY_MODEL_b6911509446146b8be0a7386237be622"
       ],
       "layout": "IPY_MODEL_5a4e5dbcc575436cbbb3073353d0938a"
      }
     },
     "0b25222268414d0fb300b88a308460b2": {
      "model_module": "@jupyter-widgets/controls",
      "model_module_version": "1.5.0",
      "model_name": "HTMLModel",
      "state": {
       "_dom_classes": [],
       "_model_module": "@jupyter-widgets/controls",
       "_model_module_version": "1.5.0",
       "_model_name": "HTMLModel",
       "_view_count": null,
       "_view_module": "@jupyter-widgets/controls",
       "_view_module_version": "1.5.0",
       "_view_name": "HTMLView",
       "description": "",
       "description_tooltip": null,
       "layout": "IPY_MODEL_83701a2bd8f04f838bc2d7ed03bc4bd4",
       "placeholder": "​",
       "style": "IPY_MODEL_3618f430d01746649c5f62671af82a3a",
       "value": " 440M/440M [00:02&lt;00:00, 262MB/s]"
      }
     },
     "0e14e65e04d3443d9faa7fa522240d24": {
      "model_module": "@jupyter-widgets/base",
      "model_module_version": "1.2.0",
      "model_name": "LayoutModel",
      "state": {
       "_model_module": "@jupyter-widgets/base",
       "_model_module_version": "1.2.0",
       "_model_name": "LayoutModel",
       "_view_count": null,
       "_view_module": "@jupyter-widgets/base",
       "_view_module_version": "1.2.0",
       "_view_name": "LayoutView",
       "align_content": null,
       "align_items": null,
       "align_self": null,
       "border": null,
       "bottom": null,
       "display": null,
       "flex": null,
       "flex_flow": null,
       "grid_area": null,
       "grid_auto_columns": null,
       "grid_auto_flow": null,
       "grid_auto_rows": null,
       "grid_column": null,
       "grid_gap": null,
       "grid_row": null,
       "grid_template_areas": null,
       "grid_template_columns": null,
       "grid_template_rows": null,
       "height": null,
       "justify_content": null,
       "justify_items": null,
       "left": null,
       "margin": null,
       "max_height": null,
       "max_width": null,
       "min_height": null,
       "min_width": null,
       "object_fit": null,
       "object_position": null,
       "order": null,
       "overflow": null,
       "overflow_x": null,
       "overflow_y": null,
       "padding": null,
       "right": null,
       "top": null,
       "visibility": null,
       "width": null
      }
     },
     "111de0197a2741ecb4bb32bc8134f9cf": {
      "model_module": "@jupyter-widgets/controls",
      "model_module_version": "1.5.0",
      "model_name": "DescriptionStyleModel",
      "state": {
       "_model_module": "@jupyter-widgets/controls",
       "_model_module_version": "1.5.0",
       "_model_name": "DescriptionStyleModel",
       "_view_count": null,
       "_view_module": "@jupyter-widgets/base",
       "_view_module_version": "1.2.0",
       "_view_name": "StyleView",
       "description_width": ""
      }
     },
     "11a30b8ece8a4fdabbef8150c666077c": {
      "model_module": "@jupyter-widgets/controls",
      "model_module_version": "1.5.0",
      "model_name": "HTMLModel",
      "state": {
       "_dom_classes": [],
       "_model_module": "@jupyter-widgets/controls",
       "_model_module_version": "1.5.0",
       "_model_name": "HTMLModel",
       "_view_count": null,
       "_view_module": "@jupyter-widgets/controls",
       "_view_module_version": "1.5.0",
       "_view_name": "HTMLView",
       "description": "",
       "description_tooltip": null,
       "layout": "IPY_MODEL_42c52276cc4b4ba38d61ab3609a7bb16",
       "placeholder": "​",
       "style": "IPY_MODEL_70614e1bbe8f4a768f9b5610b41447b8",
       "value": "tokenizer_config.json: 100%"
      }
     },
     "1631b4cfc54c486198058360a5df4930": {
      "model_module": "@jupyter-widgets/controls",
      "model_module_version": "1.5.0",
      "model_name": "ProgressStyleModel",
      "state": {
       "_model_module": "@jupyter-widgets/controls",
       "_model_module_version": "1.5.0",
       "_model_name": "ProgressStyleModel",
       "_view_count": null,
       "_view_module": "@jupyter-widgets/base",
       "_view_module_version": "1.2.0",
       "_view_name": "StyleView",
       "bar_color": null,
       "description_width": ""
      }
     },
     "1cc20b3d56eb4d55b5241ddde65c00a5": {
      "model_module": "@jupyter-widgets/controls",
      "model_module_version": "1.5.0",
      "model_name": "HBoxModel",
      "state": {
       "_dom_classes": [],
       "_model_module": "@jupyter-widgets/controls",
       "_model_module_version": "1.5.0",
       "_model_name": "HBoxModel",
       "_view_count": null,
       "_view_module": "@jupyter-widgets/controls",
       "_view_module_version": "1.5.0",
       "_view_name": "HBoxView",
       "box_style": "",
       "children": [
        "IPY_MODEL_92a6a1a5cc6647b3b59cd5534db16b82",
        "IPY_MODEL_ac76de257f0447e592335c5ffde217d0",
        "IPY_MODEL_789222f0f08243bda093fc020d261deb"
       ],
       "layout": "IPY_MODEL_757eaef243844bd890d8b89451c808e8"
      }
     },
     "22280b7cc19d4f57b185d8848fbf3f42": {
      "model_module": "@jupyter-widgets/controls",
      "model_module_version": "1.5.0",
      "model_name": "ProgressStyleModel",
      "state": {
       "_model_module": "@jupyter-widgets/controls",
       "_model_module_version": "1.5.0",
       "_model_name": "ProgressStyleModel",
       "_view_count": null,
       "_view_module": "@jupyter-widgets/base",
       "_view_module_version": "1.2.0",
       "_view_name": "StyleView",
       "bar_color": null,
       "description_width": ""
      }
     },
     "24282c1bf6784873a0fbdc0a3d45fde3": {
      "model_module": "@jupyter-widgets/base",
      "model_module_version": "1.2.0",
      "model_name": "LayoutModel",
      "state": {
       "_model_module": "@jupyter-widgets/base",
       "_model_module_version": "1.2.0",
       "_model_name": "LayoutModel",
       "_view_count": null,
       "_view_module": "@jupyter-widgets/base",
       "_view_module_version": "1.2.0",
       "_view_name": "LayoutView",
       "align_content": null,
       "align_items": null,
       "align_self": null,
       "border": null,
       "bottom": null,
       "display": null,
       "flex": null,
       "flex_flow": null,
       "grid_area": null,
       "grid_auto_columns": null,
       "grid_auto_flow": null,
       "grid_auto_rows": null,
       "grid_column": null,
       "grid_gap": null,
       "grid_row": null,
       "grid_template_areas": null,
       "grid_template_columns": null,
       "grid_template_rows": null,
       "height": null,
       "justify_content": null,
       "justify_items": null,
       "left": null,
       "margin": null,
       "max_height": null,
       "max_width": null,
       "min_height": null,
       "min_width": null,
       "object_fit": null,
       "object_position": null,
       "order": null,
       "overflow": null,
       "overflow_x": null,
       "overflow_y": null,
       "padding": null,
       "right": null,
       "top": null,
       "visibility": null,
       "width": null
      }
     },
     "2801b20fbf9e4ed988ed6b97021bab2e": {
      "model_module": "@jupyter-widgets/base",
      "model_module_version": "1.2.0",
      "model_name": "LayoutModel",
      "state": {
       "_model_module": "@jupyter-widgets/base",
       "_model_module_version": "1.2.0",
       "_model_name": "LayoutModel",
       "_view_count": null,
       "_view_module": "@jupyter-widgets/base",
       "_view_module_version": "1.2.0",
       "_view_name": "LayoutView",
       "align_content": null,
       "align_items": null,
       "align_self": null,
       "border": null,
       "bottom": null,
       "display": null,
       "flex": null,
       "flex_flow": null,
       "grid_area": null,
       "grid_auto_columns": null,
       "grid_auto_flow": null,
       "grid_auto_rows": null,
       "grid_column": null,
       "grid_gap": null,
       "grid_row": null,
       "grid_template_areas": null,
       "grid_template_columns": null,
       "grid_template_rows": null,
       "height": null,
       "justify_content": null,
       "justify_items": null,
       "left": null,
       "margin": null,
       "max_height": null,
       "max_width": null,
       "min_height": null,
       "min_width": null,
       "object_fit": null,
       "object_position": null,
       "order": null,
       "overflow": null,
       "overflow_x": null,
       "overflow_y": null,
       "padding": null,
       "right": null,
       "top": null,
       "visibility": null,
       "width": null
      }
     },
     "2daeaf9315a64182a059c0b9f7a20d5d": {
      "model_module": "@jupyter-widgets/controls",
      "model_module_version": "1.5.0",
      "model_name": "FloatProgressModel",
      "state": {
       "_dom_classes": [],
       "_model_module": "@jupyter-widgets/controls",
       "_model_module_version": "1.5.0",
       "_model_name": "FloatProgressModel",
       "_view_count": null,
       "_view_module": "@jupyter-widgets/controls",
       "_view_module_version": "1.5.0",
       "_view_name": "ProgressView",
       "bar_style": "success",
       "description": "",
       "description_tooltip": null,
       "layout": "IPY_MODEL_0e14e65e04d3443d9faa7fa522240d24",
       "max": 231508.0,
       "min": 0.0,
       "orientation": "horizontal",
       "style": "IPY_MODEL_1631b4cfc54c486198058360a5df4930",
       "value": 231508.0
      }
     },
     "2def40f3b366404ca0ef7b923d7184d1": {
      "model_module": "@jupyter-widgets/controls",
      "model_module_version": "1.5.0",
      "model_name": "FloatProgressModel",
      "state": {
       "_dom_classes": [],
       "_model_module": "@jupyter-widgets/controls",
       "_model_module_version": "1.5.0",
       "_model_name": "FloatProgressModel",
       "_view_count": null,
       "_view_module": "@jupyter-widgets/controls",
       "_view_module_version": "1.5.0",
       "_view_name": "ProgressView",
       "bar_style": "success",
       "description": "",
       "description_tooltip": null,
       "layout": "IPY_MODEL_411be9bd5d0540f68f929db23cf7a74c",
       "max": 440449768.0,
       "min": 0.0,
       "orientation": "horizontal",
       "style": "IPY_MODEL_ef4be00ffc8f47e3a3093cde1bbd8554",
       "value": 440449768.0
      }
     },
     "33794bd58ca8444d92b6a205a48cd65a": {
      "model_module": "@jupyter-widgets/controls",
      "model_module_version": "1.5.0",
      "model_name": "ProgressStyleModel",
      "state": {
       "_model_module": "@jupyter-widgets/controls",
       "_model_module_version": "1.5.0",
       "_model_name": "ProgressStyleModel",
       "_view_count": null,
       "_view_module": "@jupyter-widgets/base",
       "_view_module_version": "1.2.0",
       "_view_name": "StyleView",
       "bar_color": null,
       "description_width": ""
      }
     },
     "3618f430d01746649c5f62671af82a3a": {
      "model_module": "@jupyter-widgets/controls",
      "model_module_version": "1.5.0",
      "model_name": "DescriptionStyleModel",
      "state": {
       "_model_module": "@jupyter-widgets/controls",
       "_model_module_version": "1.5.0",
       "_model_name": "DescriptionStyleModel",
       "_view_count": null,
       "_view_module": "@jupyter-widgets/base",
       "_view_module_version": "1.2.0",
       "_view_name": "StyleView",
       "description_width": ""
      }
     },
     "3814cbb6da864bcca7e0cced8ba17d2b": {
      "model_module": "@jupyter-widgets/controls",
      "model_module_version": "1.5.0",
      "model_name": "HTMLModel",
      "state": {
       "_dom_classes": [],
       "_model_module": "@jupyter-widgets/controls",
       "_model_module_version": "1.5.0",
       "_model_name": "HTMLModel",
       "_view_count": null,
       "_view_module": "@jupyter-widgets/controls",
       "_view_module_version": "1.5.0",
       "_view_name": "HTMLView",
       "description": "",
       "description_tooltip": null,
       "layout": "IPY_MODEL_dc852ced7b3c4a67a70cd054d19d8a97",
       "placeholder": "​",
       "style": "IPY_MODEL_77375c75375343f7b58afb6213a494c0",
       "value": "config.json: 100%"
      }
     },
     "3a320dc45e794dbc8ff7f56060b7beee": {
      "model_module": "@jupyter-widgets/controls",
      "model_module_version": "1.5.0",
      "model_name": "HTMLModel",
      "state": {
       "_dom_classes": [],
       "_model_module": "@jupyter-widgets/controls",
       "_model_module_version": "1.5.0",
       "_model_name": "HTMLModel",
       "_view_count": null,
       "_view_module": "@jupyter-widgets/controls",
       "_view_module_version": "1.5.0",
       "_view_name": "HTMLView",
       "description": "",
       "description_tooltip": null,
       "layout": "IPY_MODEL_ad710bf678f8441ba2aeb497adef4c1b",
       "placeholder": "​",
       "style": "IPY_MODEL_f1bc6013236e4e9f9c041e863094a311",
       "value": "vocab.txt: 100%"
      }
     },
     "40292c2e467947e1907847a147724c46": {
      "model_module": "@jupyter-widgets/controls",
      "model_module_version": "1.5.0",
      "model_name": "HBoxModel",
      "state": {
       "_dom_classes": [],
       "_model_module": "@jupyter-widgets/controls",
       "_model_module_version": "1.5.0",
       "_model_name": "HBoxModel",
       "_view_count": null,
       "_view_module": "@jupyter-widgets/controls",
       "_view_module_version": "1.5.0",
       "_view_name": "HBoxView",
       "box_style": "",
       "children": [
        "IPY_MODEL_3a320dc45e794dbc8ff7f56060b7beee",
        "IPY_MODEL_2daeaf9315a64182a059c0b9f7a20d5d",
        "IPY_MODEL_765dff2bbf27425ebf1e2bc8b2adf142"
       ],
       "layout": "IPY_MODEL_c513456a4ad14301a3c887d7ab6701d4"
      }
     },
     "411be9bd5d0540f68f929db23cf7a74c": {
      "model_module": "@jupyter-widgets/base",
      "model_module_version": "1.2.0",
      "model_name": "LayoutModel",
      "state": {
       "_model_module": "@jupyter-widgets/base",
       "_model_module_version": "1.2.0",
       "_model_name": "LayoutModel",
       "_view_count": null,
       "_view_module": "@jupyter-widgets/base",
       "_view_module_version": "1.2.0",
       "_view_name": "LayoutView",
       "align_content": null,
       "align_items": null,
       "align_self": null,
       "border": null,
       "bottom": null,
       "display": null,
       "flex": null,
       "flex_flow": null,
       "grid_area": null,
       "grid_auto_columns": null,
       "grid_auto_flow": null,
       "grid_auto_rows": null,
       "grid_column": null,
       "grid_gap": null,
       "grid_row": null,
       "grid_template_areas": null,
       "grid_template_columns": null,
       "grid_template_rows": null,
       "height": null,
       "justify_content": null,
       "justify_items": null,
       "left": null,
       "margin": null,
       "max_height": null,
       "max_width": null,
       "min_height": null,
       "min_width": null,
       "object_fit": null,
       "object_position": null,
       "order": null,
       "overflow": null,
       "overflow_x": null,
       "overflow_y": null,
       "padding": null,
       "right": null,
       "top": null,
       "visibility": null,
       "width": null
      }
     },
     "42c52276cc4b4ba38d61ab3609a7bb16": {
      "model_module": "@jupyter-widgets/base",
      "model_module_version": "1.2.0",
      "model_name": "LayoutModel",
      "state": {
       "_model_module": "@jupyter-widgets/base",
       "_model_module_version": "1.2.0",
       "_model_name": "LayoutModel",
       "_view_count": null,
       "_view_module": "@jupyter-widgets/base",
       "_view_module_version": "1.2.0",
       "_view_name": "LayoutView",
       "align_content": null,
       "align_items": null,
       "align_self": null,
       "border": null,
       "bottom": null,
       "display": null,
       "flex": null,
       "flex_flow": null,
       "grid_area": null,
       "grid_auto_columns": null,
       "grid_auto_flow": null,
       "grid_auto_rows": null,
       "grid_column": null,
       "grid_gap": null,
       "grid_row": null,
       "grid_template_areas": null,
       "grid_template_columns": null,
       "grid_template_rows": null,
       "height": null,
       "justify_content": null,
       "justify_items": null,
       "left": null,
       "margin": null,
       "max_height": null,
       "max_width": null,
       "min_height": null,
       "min_width": null,
       "object_fit": null,
       "object_position": null,
       "order": null,
       "overflow": null,
       "overflow_x": null,
       "overflow_y": null,
       "padding": null,
       "right": null,
       "top": null,
       "visibility": null,
       "width": null
      }
     },
     "524c6cba697f432a9124bdc4e2361b77": {
      "model_module": "@jupyter-widgets/base",
      "model_module_version": "1.2.0",
      "model_name": "LayoutModel",
      "state": {
       "_model_module": "@jupyter-widgets/base",
       "_model_module_version": "1.2.0",
       "_model_name": "LayoutModel",
       "_view_count": null,
       "_view_module": "@jupyter-widgets/base",
       "_view_module_version": "1.2.0",
       "_view_name": "LayoutView",
       "align_content": null,
       "align_items": null,
       "align_self": null,
       "border": null,
       "bottom": null,
       "display": null,
       "flex": null,
       "flex_flow": null,
       "grid_area": null,
       "grid_auto_columns": null,
       "grid_auto_flow": null,
       "grid_auto_rows": null,
       "grid_column": null,
       "grid_gap": null,
       "grid_row": null,
       "grid_template_areas": null,
       "grid_template_columns": null,
       "grid_template_rows": null,
       "height": null,
       "justify_content": null,
       "justify_items": null,
       "left": null,
       "margin": null,
       "max_height": null,
       "max_width": null,
       "min_height": null,
       "min_width": null,
       "object_fit": null,
       "object_position": null,
       "order": null,
       "overflow": null,
       "overflow_x": null,
       "overflow_y": null,
       "padding": null,
       "right": null,
       "top": null,
       "visibility": null,
       "width": null
      }
     },
     "548620cf8f00436897cce1e06edd9205": {
      "model_module": "@jupyter-widgets/controls",
      "model_module_version": "1.5.0",
      "model_name": "DescriptionStyleModel",
      "state": {
       "_model_module": "@jupyter-widgets/controls",
       "_model_module_version": "1.5.0",
       "_model_name": "DescriptionStyleModel",
       "_view_count": null,
       "_view_module": "@jupyter-widgets/base",
       "_view_module_version": "1.2.0",
       "_view_name": "StyleView",
       "description_width": ""
      }
     },
     "56d49bb2ab984e97ba8f91ad36209ee8": {
      "model_module": "@jupyter-widgets/controls",
      "model_module_version": "1.5.0",
      "model_name": "HTMLModel",
      "state": {
       "_dom_classes": [],
       "_model_module": "@jupyter-widgets/controls",
       "_model_module_version": "1.5.0",
       "_model_name": "HTMLModel",
       "_view_count": null,
       "_view_module": "@jupyter-widgets/controls",
       "_view_module_version": "1.5.0",
       "_view_name": "HTMLView",
       "description": "",
       "description_tooltip": null,
       "layout": "IPY_MODEL_64ef2dc46782416d929f82af34add6f6",
       "placeholder": "​",
       "style": "IPY_MODEL_548620cf8f00436897cce1e06edd9205",
       "value": " 570/570 [00:00&lt;00:00, 51.5kB/s]"
      }
     },
     "5a4e5dbcc575436cbbb3073353d0938a": {
      "model_module": "@jupyter-widgets/base",
      "model_module_version": "1.2.0",
      "model_name": "LayoutModel",
      "state": {
       "_model_module": "@jupyter-widgets/base",
       "_model_module_version": "1.2.0",
       "_model_name": "LayoutModel",
       "_view_count": null,
       "_view_module": "@jupyter-widgets/base",
       "_view_module_version": "1.2.0",
       "_view_name": "LayoutView",
       "align_content": null,
       "align_items": null,
       "align_self": null,
       "border": null,
       "bottom": null,
       "display": null,
       "flex": null,
       "flex_flow": null,
       "grid_area": null,
       "grid_auto_columns": null,
       "grid_auto_flow": null,
       "grid_auto_rows": null,
       "grid_column": null,
       "grid_gap": null,
       "grid_row": null,
       "grid_template_areas": null,
       "grid_template_columns": null,
       "grid_template_rows": null,
       "height": null,
       "justify_content": null,
       "justify_items": null,
       "left": null,
       "margin": null,
       "max_height": null,
       "max_width": null,
       "min_height": null,
       "min_width": null,
       "object_fit": null,
       "object_position": null,
       "order": null,
       "overflow": null,
       "overflow_x": null,
       "overflow_y": null,
       "padding": null,
       "right": null,
       "top": null,
       "visibility": null,
       "width": null
      }
     },
     "5f5b4337c7b54deea55666ad1def84f9": {
      "model_module": "@jupyter-widgets/base",
      "model_module_version": "1.2.0",
      "model_name": "LayoutModel",
      "state": {
       "_model_module": "@jupyter-widgets/base",
       "_model_module_version": "1.2.0",
       "_model_name": "LayoutModel",
       "_view_count": null,
       "_view_module": "@jupyter-widgets/base",
       "_view_module_version": "1.2.0",
       "_view_name": "LayoutView",
       "align_content": null,
       "align_items": null,
       "align_self": null,
       "border": null,
       "bottom": null,
       "display": null,
       "flex": null,
       "flex_flow": null,
       "grid_area": null,
       "grid_auto_columns": null,
       "grid_auto_flow": null,
       "grid_auto_rows": null,
       "grid_column": null,
       "grid_gap": null,
       "grid_row": null,
       "grid_template_areas": null,
       "grid_template_columns": null,
       "grid_template_rows": null,
       "height": null,
       "justify_content": null,
       "justify_items": null,
       "left": null,
       "margin": null,
       "max_height": null,
       "max_width": null,
       "min_height": null,
       "min_width": null,
       "object_fit": null,
       "object_position": null,
       "order": null,
       "overflow": null,
       "overflow_x": null,
       "overflow_y": null,
       "padding": null,
       "right": null,
       "top": null,
       "visibility": null,
       "width": null
      }
     },
     "5ffcfffe741f4377a386e5a109227b63": {
      "model_module": "@jupyter-widgets/controls",
      "model_module_version": "1.5.0",
      "model_name": "HBoxModel",
      "state": {
       "_dom_classes": [],
       "_model_module": "@jupyter-widgets/controls",
       "_model_module_version": "1.5.0",
       "_model_name": "HBoxModel",
       "_view_count": null,
       "_view_module": "@jupyter-widgets/controls",
       "_view_module_version": "1.5.0",
       "_view_name": "HBoxView",
       "box_style": "",
       "children": [
        "IPY_MODEL_3814cbb6da864bcca7e0cced8ba17d2b",
        "IPY_MODEL_9cce4b7cf3a6417e96ff25fd898e59c8",
        "IPY_MODEL_56d49bb2ab984e97ba8f91ad36209ee8"
       ],
       "layout": "IPY_MODEL_cd89ee53747a481798ed61e84549a073"
      }
     },
     "64ef2dc46782416d929f82af34add6f6": {
      "model_module": "@jupyter-widgets/base",
      "model_module_version": "1.2.0",
      "model_name": "LayoutModel",
      "state": {
       "_model_module": "@jupyter-widgets/base",
       "_model_module_version": "1.2.0",
       "_model_name": "LayoutModel",
       "_view_count": null,
       "_view_module": "@jupyter-widgets/base",
       "_view_module_version": "1.2.0",
       "_view_name": "LayoutView",
       "align_content": null,
       "align_items": null,
       "align_self": null,
       "border": null,
       "bottom": null,
       "display": null,
       "flex": null,
       "flex_flow": null,
       "grid_area": null,
       "grid_auto_columns": null,
       "grid_auto_flow": null,
       "grid_auto_rows": null,
       "grid_column": null,
       "grid_gap": null,
       "grid_row": null,
       "grid_template_areas": null,
       "grid_template_columns": null,
       "grid_template_rows": null,
       "height": null,
       "justify_content": null,
       "justify_items": null,
       "left": null,
       "margin": null,
       "max_height": null,
       "max_width": null,
       "min_height": null,
       "min_width": null,
       "object_fit": null,
       "object_position": null,
       "order": null,
       "overflow": null,
       "overflow_x": null,
       "overflow_y": null,
       "padding": null,
       "right": null,
       "top": null,
       "visibility": null,
       "width": null
      }
     },
     "693e1ca6102d464c850938bf7d03343e": {
      "model_module": "@jupyter-widgets/controls",
      "model_module_version": "1.5.0",
      "model_name": "HTMLModel",
      "state": {
       "_dom_classes": [],
       "_model_module": "@jupyter-widgets/controls",
       "_model_module_version": "1.5.0",
       "_model_name": "HTMLModel",
       "_view_count": null,
       "_view_module": "@jupyter-widgets/controls",
       "_view_module_version": "1.5.0",
       "_view_name": "HTMLView",
       "description": "",
       "description_tooltip": null,
       "layout": "IPY_MODEL_cf81be9038244bce875f30228ec706c9",
       "placeholder": "​",
       "style": "IPY_MODEL_cb136f1dea934be3b12ed069279db986",
       "value": "model.safetensors: 100%"
      }
     },
     "70614e1bbe8f4a768f9b5610b41447b8": {
      "model_module": "@jupyter-widgets/controls",
      "model_module_version": "1.5.0",
      "model_name": "DescriptionStyleModel",
      "state": {
       "_model_module": "@jupyter-widgets/controls",
       "_model_module_version": "1.5.0",
       "_model_name": "DescriptionStyleModel",
       "_view_count": null,
       "_view_module": "@jupyter-widgets/base",
       "_view_module_version": "1.2.0",
       "_view_name": "StyleView",
       "description_width": ""
      }
     },
     "70dc19fb4a1a43a3a72d5a0ade4b1a9f": {
      "model_module": "@jupyter-widgets/base",
      "model_module_version": "1.2.0",
      "model_name": "LayoutModel",
      "state": {
       "_model_module": "@jupyter-widgets/base",
       "_model_module_version": "1.2.0",
       "_model_name": "LayoutModel",
       "_view_count": null,
       "_view_module": "@jupyter-widgets/base",
       "_view_module_version": "1.2.0",
       "_view_name": "LayoutView",
       "align_content": null,
       "align_items": null,
       "align_self": null,
       "border": null,
       "bottom": null,
       "display": null,
       "flex": null,
       "flex_flow": null,
       "grid_area": null,
       "grid_auto_columns": null,
       "grid_auto_flow": null,
       "grid_auto_rows": null,
       "grid_column": null,
       "grid_gap": null,
       "grid_row": null,
       "grid_template_areas": null,
       "grid_template_columns": null,
       "grid_template_rows": null,
       "height": null,
       "justify_content": null,
       "justify_items": null,
       "left": null,
       "margin": null,
       "max_height": null,
       "max_width": null,
       "min_height": null,
       "min_width": null,
       "object_fit": null,
       "object_position": null,
       "order": null,
       "overflow": null,
       "overflow_x": null,
       "overflow_y": null,
       "padding": null,
       "right": null,
       "top": null,
       "visibility": null,
       "width": null
      }
     },
     "757eaef243844bd890d8b89451c808e8": {
      "model_module": "@jupyter-widgets/base",
      "model_module_version": "1.2.0",
      "model_name": "LayoutModel",
      "state": {
       "_model_module": "@jupyter-widgets/base",
       "_model_module_version": "1.2.0",
       "_model_name": "LayoutModel",
       "_view_count": null,
       "_view_module": "@jupyter-widgets/base",
       "_view_module_version": "1.2.0",
       "_view_name": "LayoutView",
       "align_content": null,
       "align_items": null,
       "align_self": null,
       "border": null,
       "bottom": null,
       "display": null,
       "flex": null,
       "flex_flow": null,
       "grid_area": null,
       "grid_auto_columns": null,
       "grid_auto_flow": null,
       "grid_auto_rows": null,
       "grid_column": null,
       "grid_gap": null,
       "grid_row": null,
       "grid_template_areas": null,
       "grid_template_columns": null,
       "grid_template_rows": null,
       "height": null,
       "justify_content": null,
       "justify_items": null,
       "left": null,
       "margin": null,
       "max_height": null,
       "max_width": null,
       "min_height": null,
       "min_width": null,
       "object_fit": null,
       "object_position": null,
       "order": null,
       "overflow": null,
       "overflow_x": null,
       "overflow_y": null,
       "padding": null,
       "right": null,
       "top": null,
       "visibility": null,
       "width": null
      }
     },
     "765dff2bbf27425ebf1e2bc8b2adf142": {
      "model_module": "@jupyter-widgets/controls",
      "model_module_version": "1.5.0",
      "model_name": "HTMLModel",
      "state": {
       "_dom_classes": [],
       "_model_module": "@jupyter-widgets/controls",
       "_model_module_version": "1.5.0",
       "_model_name": "HTMLModel",
       "_view_count": null,
       "_view_module": "@jupyter-widgets/controls",
       "_view_module_version": "1.5.0",
       "_view_name": "HTMLView",
       "description": "",
       "description_tooltip": null,
       "layout": "IPY_MODEL_caf35d6a29db4742bd45a62f69dbdbc3",
       "placeholder": "​",
       "style": "IPY_MODEL_f086422f73fa42ac880d04bd11382291",
       "value": " 232k/232k [00:00&lt;00:00, 2.51MB/s]"
      }
     },
     "77375c75375343f7b58afb6213a494c0": {
      "model_module": "@jupyter-widgets/controls",
      "model_module_version": "1.5.0",
      "model_name": "DescriptionStyleModel",
      "state": {
       "_model_module": "@jupyter-widgets/controls",
       "_model_module_version": "1.5.0",
       "_model_name": "DescriptionStyleModel",
       "_view_count": null,
       "_view_module": "@jupyter-widgets/base",
       "_view_module_version": "1.2.0",
       "_view_name": "StyleView",
       "description_width": ""
      }
     },
     "789222f0f08243bda093fc020d261deb": {
      "model_module": "@jupyter-widgets/controls",
      "model_module_version": "1.5.0",
      "model_name": "HTMLModel",
      "state": {
       "_dom_classes": [],
       "_model_module": "@jupyter-widgets/controls",
       "_model_module_version": "1.5.0",
       "_model_name": "HTMLModel",
       "_view_count": null,
       "_view_module": "@jupyter-widgets/controls",
       "_view_module_version": "1.5.0",
       "_view_name": "HTMLView",
       "description": "",
       "description_tooltip": null,
       "layout": "IPY_MODEL_e5b76562d14b4841b73b0b476f3fe5db",
       "placeholder": "​",
       "style": "IPY_MODEL_93d6359af52e4e0fa2a0605b8ad3b662",
       "value": " 466k/466k [00:00&lt;00:00, 3.35MB/s]"
      }
     },
     "7e70fd6455154a978115f2681cbb291c": {
      "model_module": "@jupyter-widgets/controls",
      "model_module_version": "1.5.0",
      "model_name": "DescriptionStyleModel",
      "state": {
       "_model_module": "@jupyter-widgets/controls",
       "_model_module_version": "1.5.0",
       "_model_name": "DescriptionStyleModel",
       "_view_count": null,
       "_view_module": "@jupyter-widgets/base",
       "_view_module_version": "1.2.0",
       "_view_name": "StyleView",
       "description_width": ""
      }
     },
     "83701a2bd8f04f838bc2d7ed03bc4bd4": {
      "model_module": "@jupyter-widgets/base",
      "model_module_version": "1.2.0",
      "model_name": "LayoutModel",
      "state": {
       "_model_module": "@jupyter-widgets/base",
       "_model_module_version": "1.2.0",
       "_model_name": "LayoutModel",
       "_view_count": null,
       "_view_module": "@jupyter-widgets/base",
       "_view_module_version": "1.2.0",
       "_view_name": "LayoutView",
       "align_content": null,
       "align_items": null,
       "align_self": null,
       "border": null,
       "bottom": null,
       "display": null,
       "flex": null,
       "flex_flow": null,
       "grid_area": null,
       "grid_auto_columns": null,
       "grid_auto_flow": null,
       "grid_auto_rows": null,
       "grid_column": null,
       "grid_gap": null,
       "grid_row": null,
       "grid_template_areas": null,
       "grid_template_columns": null,
       "grid_template_rows": null,
       "height": null,
       "justify_content": null,
       "justify_items": null,
       "left": null,
       "margin": null,
       "max_height": null,
       "max_width": null,
       "min_height": null,
       "min_width": null,
       "object_fit": null,
       "object_position": null,
       "order": null,
       "overflow": null,
       "overflow_x": null,
       "overflow_y": null,
       "padding": null,
       "right": null,
       "top": null,
       "visibility": null,
       "width": null
      }
     },
     "92a6a1a5cc6647b3b59cd5534db16b82": {
      "model_module": "@jupyter-widgets/controls",
      "model_module_version": "1.5.0",
      "model_name": "HTMLModel",
      "state": {
       "_dom_classes": [],
       "_model_module": "@jupyter-widgets/controls",
       "_model_module_version": "1.5.0",
       "_model_name": "HTMLModel",
       "_view_count": null,
       "_view_module": "@jupyter-widgets/controls",
       "_view_module_version": "1.5.0",
       "_view_name": "HTMLView",
       "description": "",
       "description_tooltip": null,
       "layout": "IPY_MODEL_5f5b4337c7b54deea55666ad1def84f9",
       "placeholder": "​",
       "style": "IPY_MODEL_111de0197a2741ecb4bb32bc8134f9cf",
       "value": "tokenizer.json: 100%"
      }
     },
     "93d6359af52e4e0fa2a0605b8ad3b662": {
      "model_module": "@jupyter-widgets/controls",
      "model_module_version": "1.5.0",
      "model_name": "DescriptionStyleModel",
      "state": {
       "_model_module": "@jupyter-widgets/controls",
       "_model_module_version": "1.5.0",
       "_model_name": "DescriptionStyleModel",
       "_view_count": null,
       "_view_module": "@jupyter-widgets/base",
       "_view_module_version": "1.2.0",
       "_view_name": "StyleView",
       "description_width": ""
      }
     },
     "9cce4b7cf3a6417e96ff25fd898e59c8": {
      "model_module": "@jupyter-widgets/controls",
      "model_module_version": "1.5.0",
      "model_name": "FloatProgressModel",
      "state": {
       "_dom_classes": [],
       "_model_module": "@jupyter-widgets/controls",
       "_model_module_version": "1.5.0",
       "_model_name": "FloatProgressModel",
       "_view_count": null,
       "_view_module": "@jupyter-widgets/controls",
       "_view_module_version": "1.5.0",
       "_view_name": "ProgressView",
       "bar_style": "success",
       "description": "",
       "description_tooltip": null,
       "layout": "IPY_MODEL_24282c1bf6784873a0fbdc0a3d45fde3",
       "max": 570.0,
       "min": 0.0,
       "orientation": "horizontal",
       "style": "IPY_MODEL_33794bd58ca8444d92b6a205a48cd65a",
       "value": 570.0
      }
     },
     "a5f733750dee449983d2e21b9e1cb82e": {
      "model_module": "@jupyter-widgets/controls",
      "model_module_version": "1.5.0",
      "model_name": "FloatProgressModel",
      "state": {
       "_dom_classes": [],
       "_model_module": "@jupyter-widgets/controls",
       "_model_module_version": "1.5.0",
       "_model_name": "FloatProgressModel",
       "_view_count": null,
       "_view_module": "@jupyter-widgets/controls",
       "_view_module_version": "1.5.0",
       "_view_name": "ProgressView",
       "bar_style": "success",
       "description": "",
       "description_tooltip": null,
       "layout": "IPY_MODEL_d158f8dd630441fbb8f4df43b83c4b4f",
       "max": 28.0,
       "min": 0.0,
       "orientation": "horizontal",
       "style": "IPY_MODEL_cb131250aa1d494890dedf104149d572",
       "value": 28.0
      }
     },
     "ac76de257f0447e592335c5ffde217d0": {
      "model_module": "@jupyter-widgets/controls",
      "model_module_version": "1.5.0",
      "model_name": "FloatProgressModel",
      "state": {
       "_dom_classes": [],
       "_model_module": "@jupyter-widgets/controls",
       "_model_module_version": "1.5.0",
       "_model_name": "FloatProgressModel",
       "_view_count": null,
       "_view_module": "@jupyter-widgets/controls",
       "_view_module_version": "1.5.0",
       "_view_name": "ProgressView",
       "bar_style": "success",
       "description": "",
       "description_tooltip": null,
       "layout": "IPY_MODEL_524c6cba697f432a9124bdc4e2361b77",
       "max": 466062.0,
       "min": 0.0,
       "orientation": "horizontal",
       "style": "IPY_MODEL_22280b7cc19d4f57b185d8848fbf3f42",
       "value": 466062.0
      }
     },
     "ad710bf678f8441ba2aeb497adef4c1b": {
      "model_module": "@jupyter-widgets/base",
      "model_module_version": "1.2.0",
      "model_name": "LayoutModel",
      "state": {
       "_model_module": "@jupyter-widgets/base",
       "_model_module_version": "1.2.0",
       "_model_name": "LayoutModel",
       "_view_count": null,
       "_view_module": "@jupyter-widgets/base",
       "_view_module_version": "1.2.0",
       "_view_name": "LayoutView",
       "align_content": null,
       "align_items": null,
       "align_self": null,
       "border": null,
       "bottom": null,
       "display": null,
       "flex": null,
       "flex_flow": null,
       "grid_area": null,
       "grid_auto_columns": null,
       "grid_auto_flow": null,
       "grid_auto_rows": null,
       "grid_column": null,
       "grid_gap": null,
       "grid_row": null,
       "grid_template_areas": null,
       "grid_template_columns": null,
       "grid_template_rows": null,
       "height": null,
       "justify_content": null,
       "justify_items": null,
       "left": null,
       "margin": null,
       "max_height": null,
       "max_width": null,
       "min_height": null,
       "min_width": null,
       "object_fit": null,
       "object_position": null,
       "order": null,
       "overflow": null,
       "overflow_x": null,
       "overflow_y": null,
       "padding": null,
       "right": null,
       "top": null,
       "visibility": null,
       "width": null
      }
     },
     "b6911509446146b8be0a7386237be622": {
      "model_module": "@jupyter-widgets/controls",
      "model_module_version": "1.5.0",
      "model_name": "HTMLModel",
      "state": {
       "_dom_classes": [],
       "_model_module": "@jupyter-widgets/controls",
       "_model_module_version": "1.5.0",
       "_model_name": "HTMLModel",
       "_view_count": null,
       "_view_module": "@jupyter-widgets/controls",
       "_view_module_version": "1.5.0",
       "_view_name": "HTMLView",
       "description": "",
       "description_tooltip": null,
       "layout": "IPY_MODEL_2801b20fbf9e4ed988ed6b97021bab2e",
       "placeholder": "​",
       "style": "IPY_MODEL_7e70fd6455154a978115f2681cbb291c",
       "value": " 28.0/28.0 [00:00&lt;00:00, 2.27kB/s]"
      }
     },
     "c513456a4ad14301a3c887d7ab6701d4": {
      "model_module": "@jupyter-widgets/base",
      "model_module_version": "1.2.0",
      "model_name": "LayoutModel",
      "state": {
       "_model_module": "@jupyter-widgets/base",
       "_model_module_version": "1.2.0",
       "_model_name": "LayoutModel",
       "_view_count": null,
       "_view_module": "@jupyter-widgets/base",
       "_view_module_version": "1.2.0",
       "_view_name": "LayoutView",
       "align_content": null,
       "align_items": null,
       "align_self": null,
       "border": null,
       "bottom": null,
       "display": null,
       "flex": null,
       "flex_flow": null,
       "grid_area": null,
       "grid_auto_columns": null,
       "grid_auto_flow": null,
       "grid_auto_rows": null,
       "grid_column": null,
       "grid_gap": null,
       "grid_row": null,
       "grid_template_areas": null,
       "grid_template_columns": null,
       "grid_template_rows": null,
       "height": null,
       "justify_content": null,
       "justify_items": null,
       "left": null,
       "margin": null,
       "max_height": null,
       "max_width": null,
       "min_height": null,
       "min_width": null,
       "object_fit": null,
       "object_position": null,
       "order": null,
       "overflow": null,
       "overflow_x": null,
       "overflow_y": null,
       "padding": null,
       "right": null,
       "top": null,
       "visibility": null,
       "width": null
      }
     },
     "caf35d6a29db4742bd45a62f69dbdbc3": {
      "model_module": "@jupyter-widgets/base",
      "model_module_version": "1.2.0",
      "model_name": "LayoutModel",
      "state": {
       "_model_module": "@jupyter-widgets/base",
       "_model_module_version": "1.2.0",
       "_model_name": "LayoutModel",
       "_view_count": null,
       "_view_module": "@jupyter-widgets/base",
       "_view_module_version": "1.2.0",
       "_view_name": "LayoutView",
       "align_content": null,
       "align_items": null,
       "align_self": null,
       "border": null,
       "bottom": null,
       "display": null,
       "flex": null,
       "flex_flow": null,
       "grid_area": null,
       "grid_auto_columns": null,
       "grid_auto_flow": null,
       "grid_auto_rows": null,
       "grid_column": null,
       "grid_gap": null,
       "grid_row": null,
       "grid_template_areas": null,
       "grid_template_columns": null,
       "grid_template_rows": null,
       "height": null,
       "justify_content": null,
       "justify_items": null,
       "left": null,
       "margin": null,
       "max_height": null,
       "max_width": null,
       "min_height": null,
       "min_width": null,
       "object_fit": null,
       "object_position": null,
       "order": null,
       "overflow": null,
       "overflow_x": null,
       "overflow_y": null,
       "padding": null,
       "right": null,
       "top": null,
       "visibility": null,
       "width": null
      }
     },
     "cb131250aa1d494890dedf104149d572": {
      "model_module": "@jupyter-widgets/controls",
      "model_module_version": "1.5.0",
      "model_name": "ProgressStyleModel",
      "state": {
       "_model_module": "@jupyter-widgets/controls",
       "_model_module_version": "1.5.0",
       "_model_name": "ProgressStyleModel",
       "_view_count": null,
       "_view_module": "@jupyter-widgets/base",
       "_view_module_version": "1.2.0",
       "_view_name": "StyleView",
       "bar_color": null,
       "description_width": ""
      }
     },
     "cb136f1dea934be3b12ed069279db986": {
      "model_module": "@jupyter-widgets/controls",
      "model_module_version": "1.5.0",
      "model_name": "DescriptionStyleModel",
      "state": {
       "_model_module": "@jupyter-widgets/controls",
       "_model_module_version": "1.5.0",
       "_model_name": "DescriptionStyleModel",
       "_view_count": null,
       "_view_module": "@jupyter-widgets/base",
       "_view_module_version": "1.2.0",
       "_view_name": "StyleView",
       "description_width": ""
      }
     },
     "cd89ee53747a481798ed61e84549a073": {
      "model_module": "@jupyter-widgets/base",
      "model_module_version": "1.2.0",
      "model_name": "LayoutModel",
      "state": {
       "_model_module": "@jupyter-widgets/base",
       "_model_module_version": "1.2.0",
       "_model_name": "LayoutModel",
       "_view_count": null,
       "_view_module": "@jupyter-widgets/base",
       "_view_module_version": "1.2.0",
       "_view_name": "LayoutView",
       "align_content": null,
       "align_items": null,
       "align_self": null,
       "border": null,
       "bottom": null,
       "display": null,
       "flex": null,
       "flex_flow": null,
       "grid_area": null,
       "grid_auto_columns": null,
       "grid_auto_flow": null,
       "grid_auto_rows": null,
       "grid_column": null,
       "grid_gap": null,
       "grid_row": null,
       "grid_template_areas": null,
       "grid_template_columns": null,
       "grid_template_rows": null,
       "height": null,
       "justify_content": null,
       "justify_items": null,
       "left": null,
       "margin": null,
       "max_height": null,
       "max_width": null,
       "min_height": null,
       "min_width": null,
       "object_fit": null,
       "object_position": null,
       "order": null,
       "overflow": null,
       "overflow_x": null,
       "overflow_y": null,
       "padding": null,
       "right": null,
       "top": null,
       "visibility": null,
       "width": null
      }
     },
     "cf81be9038244bce875f30228ec706c9": {
      "model_module": "@jupyter-widgets/base",
      "model_module_version": "1.2.0",
      "model_name": "LayoutModel",
      "state": {
       "_model_module": "@jupyter-widgets/base",
       "_model_module_version": "1.2.0",
       "_model_name": "LayoutModel",
       "_view_count": null,
       "_view_module": "@jupyter-widgets/base",
       "_view_module_version": "1.2.0",
       "_view_name": "LayoutView",
       "align_content": null,
       "align_items": null,
       "align_self": null,
       "border": null,
       "bottom": null,
       "display": null,
       "flex": null,
       "flex_flow": null,
       "grid_area": null,
       "grid_auto_columns": null,
       "grid_auto_flow": null,
       "grid_auto_rows": null,
       "grid_column": null,
       "grid_gap": null,
       "grid_row": null,
       "grid_template_areas": null,
       "grid_template_columns": null,
       "grid_template_rows": null,
       "height": null,
       "justify_content": null,
       "justify_items": null,
       "left": null,
       "margin": null,
       "max_height": null,
       "max_width": null,
       "min_height": null,
       "min_width": null,
       "object_fit": null,
       "object_position": null,
       "order": null,
       "overflow": null,
       "overflow_x": null,
       "overflow_y": null,
       "padding": null,
       "right": null,
       "top": null,
       "visibility": null,
       "width": null
      }
     },
     "d158f8dd630441fbb8f4df43b83c4b4f": {
      "model_module": "@jupyter-widgets/base",
      "model_module_version": "1.2.0",
      "model_name": "LayoutModel",
      "state": {
       "_model_module": "@jupyter-widgets/base",
       "_model_module_version": "1.2.0",
       "_model_name": "LayoutModel",
       "_view_count": null,
       "_view_module": "@jupyter-widgets/base",
       "_view_module_version": "1.2.0",
       "_view_name": "LayoutView",
       "align_content": null,
       "align_items": null,
       "align_self": null,
       "border": null,
       "bottom": null,
       "display": null,
       "flex": null,
       "flex_flow": null,
       "grid_area": null,
       "grid_auto_columns": null,
       "grid_auto_flow": null,
       "grid_auto_rows": null,
       "grid_column": null,
       "grid_gap": null,
       "grid_row": null,
       "grid_template_areas": null,
       "grid_template_columns": null,
       "grid_template_rows": null,
       "height": null,
       "justify_content": null,
       "justify_items": null,
       "left": null,
       "margin": null,
       "max_height": null,
       "max_width": null,
       "min_height": null,
       "min_width": null,
       "object_fit": null,
       "object_position": null,
       "order": null,
       "overflow": null,
       "overflow_x": null,
       "overflow_y": null,
       "padding": null,
       "right": null,
       "top": null,
       "visibility": null,
       "width": null
      }
     },
     "dc852ced7b3c4a67a70cd054d19d8a97": {
      "model_module": "@jupyter-widgets/base",
      "model_module_version": "1.2.0",
      "model_name": "LayoutModel",
      "state": {
       "_model_module": "@jupyter-widgets/base",
       "_model_module_version": "1.2.0",
       "_model_name": "LayoutModel",
       "_view_count": null,
       "_view_module": "@jupyter-widgets/base",
       "_view_module_version": "1.2.0",
       "_view_name": "LayoutView",
       "align_content": null,
       "align_items": null,
       "align_self": null,
       "border": null,
       "bottom": null,
       "display": null,
       "flex": null,
       "flex_flow": null,
       "grid_area": null,
       "grid_auto_columns": null,
       "grid_auto_flow": null,
       "grid_auto_rows": null,
       "grid_column": null,
       "grid_gap": null,
       "grid_row": null,
       "grid_template_areas": null,
       "grid_template_columns": null,
       "grid_template_rows": null,
       "height": null,
       "justify_content": null,
       "justify_items": null,
       "left": null,
       "margin": null,
       "max_height": null,
       "max_width": null,
       "min_height": null,
       "min_width": null,
       "object_fit": null,
       "object_position": null,
       "order": null,
       "overflow": null,
       "overflow_x": null,
       "overflow_y": null,
       "padding": null,
       "right": null,
       "top": null,
       "visibility": null,
       "width": null
      }
     },
     "e5b76562d14b4841b73b0b476f3fe5db": {
      "model_module": "@jupyter-widgets/base",
      "model_module_version": "1.2.0",
      "model_name": "LayoutModel",
      "state": {
       "_model_module": "@jupyter-widgets/base",
       "_model_module_version": "1.2.0",
       "_model_name": "LayoutModel",
       "_view_count": null,
       "_view_module": "@jupyter-widgets/base",
       "_view_module_version": "1.2.0",
       "_view_name": "LayoutView",
       "align_content": null,
       "align_items": null,
       "align_self": null,
       "border": null,
       "bottom": null,
       "display": null,
       "flex": null,
       "flex_flow": null,
       "grid_area": null,
       "grid_auto_columns": null,
       "grid_auto_flow": null,
       "grid_auto_rows": null,
       "grid_column": null,
       "grid_gap": null,
       "grid_row": null,
       "grid_template_areas": null,
       "grid_template_columns": null,
       "grid_template_rows": null,
       "height": null,
       "justify_content": null,
       "justify_items": null,
       "left": null,
       "margin": null,
       "max_height": null,
       "max_width": null,
       "min_height": null,
       "min_width": null,
       "object_fit": null,
       "object_position": null,
       "order": null,
       "overflow": null,
       "overflow_x": null,
       "overflow_y": null,
       "padding": null,
       "right": null,
       "top": null,
       "visibility": null,
       "width": null
      }
     },
     "e7c09edc8ef749159eefe71eaf3228b0": {
      "model_module": "@jupyter-widgets/controls",
      "model_module_version": "1.5.0",
      "model_name": "HBoxModel",
      "state": {
       "_dom_classes": [],
       "_model_module": "@jupyter-widgets/controls",
       "_model_module_version": "1.5.0",
       "_model_name": "HBoxModel",
       "_view_count": null,
       "_view_module": "@jupyter-widgets/controls",
       "_view_module_version": "1.5.0",
       "_view_name": "HBoxView",
       "box_style": "",
       "children": [
        "IPY_MODEL_693e1ca6102d464c850938bf7d03343e",
        "IPY_MODEL_2def40f3b366404ca0ef7b923d7184d1",
        "IPY_MODEL_0b25222268414d0fb300b88a308460b2"
       ],
       "layout": "IPY_MODEL_70dc19fb4a1a43a3a72d5a0ade4b1a9f"
      }
     },
     "ef4be00ffc8f47e3a3093cde1bbd8554": {
      "model_module": "@jupyter-widgets/controls",
      "model_module_version": "1.5.0",
      "model_name": "ProgressStyleModel",
      "state": {
       "_model_module": "@jupyter-widgets/controls",
       "_model_module_version": "1.5.0",
       "_model_name": "ProgressStyleModel",
       "_view_count": null,
       "_view_module": "@jupyter-widgets/base",
       "_view_module_version": "1.2.0",
       "_view_name": "StyleView",
       "bar_color": null,
       "description_width": ""
      }
     },
     "f086422f73fa42ac880d04bd11382291": {
      "model_module": "@jupyter-widgets/controls",
      "model_module_version": "1.5.0",
      "model_name": "DescriptionStyleModel",
      "state": {
       "_model_module": "@jupyter-widgets/controls",
       "_model_module_version": "1.5.0",
       "_model_name": "DescriptionStyleModel",
       "_view_count": null,
       "_view_module": "@jupyter-widgets/base",
       "_view_module_version": "1.2.0",
       "_view_name": "StyleView",
       "description_width": ""
      }
     },
     "f1bc6013236e4e9f9c041e863094a311": {
      "model_module": "@jupyter-widgets/controls",
      "model_module_version": "1.5.0",
      "model_name": "DescriptionStyleModel",
      "state": {
       "_model_module": "@jupyter-widgets/controls",
       "_model_module_version": "1.5.0",
       "_model_name": "DescriptionStyleModel",
       "_view_count": null,
       "_view_module": "@jupyter-widgets/base",
       "_view_module_version": "1.2.0",
       "_view_name": "StyleView",
       "description_width": ""
      }
     }
    },
    "version_major": 2,
    "version_minor": 0
   }
  }
 },
 "nbformat": 4,
 "nbformat_minor": 5
}
